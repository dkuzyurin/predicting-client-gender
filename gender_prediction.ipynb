{
 "cells": [
  {
   "cell_type": "code",
   "execution_count": 1,
   "metadata": {},
   "outputs": [],
   "source": [
    "import pandas as pd\n",
    "import numpy as np\n",
    "from matplotlib import pyplot as plt\n",
    "import seaborn as sns\n",
    "\n",
    "from datetime import datetime\n",
    "\n",
    "PATH = 'D:\\\\DA\\\\TestTasks\\\\AlfaBank\\\\'"
   ]
  },
  {
   "cell_type": "markdown",
   "metadata": {},
   "source": [
    "# Чтение и анализ данных"
   ]
  },
  {
   "cell_type": "code",
   "execution_count": 2,
   "metadata": {},
   "outputs": [
    {
     "data": {
      "text/html": [
       "<div>\n",
       "<style scoped>\n",
       "    .dataframe tbody tr th:only-of-type {\n",
       "        vertical-align: middle;\n",
       "    }\n",
       "\n",
       "    .dataframe tbody tr th {\n",
       "        vertical-align: top;\n",
       "    }\n",
       "\n",
       "    .dataframe thead th {\n",
       "        text-align: right;\n",
       "    }\n",
       "</style>\n",
       "<table border=\"1\" class=\"dataframe\">\n",
       "  <thead>\n",
       "    <tr style=\"text-align: right;\">\n",
       "      <th></th>\n",
       "      <th>customer_id</th>\n",
       "      <th>tr_datetime</th>\n",
       "      <th>mcc_code</th>\n",
       "      <th>tr_type</th>\n",
       "      <th>amount</th>\n",
       "      <th>term_id</th>\n",
       "    </tr>\n",
       "  </thead>\n",
       "  <tbody>\n",
       "    <tr>\n",
       "      <th>0</th>\n",
       "      <td>39026145</td>\n",
       "      <td>0 10:23:26</td>\n",
       "      <td>4814</td>\n",
       "      <td>1030</td>\n",
       "      <td>-2245.92</td>\n",
       "      <td>NaN</td>\n",
       "    </tr>\n",
       "    <tr>\n",
       "      <th>1</th>\n",
       "      <td>39026145</td>\n",
       "      <td>1 10:19:29</td>\n",
       "      <td>6011</td>\n",
       "      <td>7010</td>\n",
       "      <td>56147.89</td>\n",
       "      <td>NaN</td>\n",
       "    </tr>\n",
       "    <tr>\n",
       "      <th>2</th>\n",
       "      <td>39026145</td>\n",
       "      <td>1 10:20:56</td>\n",
       "      <td>4829</td>\n",
       "      <td>2330</td>\n",
       "      <td>-56147.89</td>\n",
       "      <td>NaN</td>\n",
       "    </tr>\n",
       "    <tr>\n",
       "      <th>3</th>\n",
       "      <td>39026145</td>\n",
       "      <td>1 10:39:54</td>\n",
       "      <td>5499</td>\n",
       "      <td>1010</td>\n",
       "      <td>-1392.47</td>\n",
       "      <td>NaN</td>\n",
       "    </tr>\n",
       "    <tr>\n",
       "      <th>4</th>\n",
       "      <td>39026145</td>\n",
       "      <td>2 15:33:42</td>\n",
       "      <td>5499</td>\n",
       "      <td>1010</td>\n",
       "      <td>-920.83</td>\n",
       "      <td>NaN</td>\n",
       "    </tr>\n",
       "    <tr>\n",
       "      <th>5</th>\n",
       "      <td>39026145</td>\n",
       "      <td>2 15:53:49</td>\n",
       "      <td>5541</td>\n",
       "      <td>1010</td>\n",
       "      <td>-14643.37</td>\n",
       "      <td>NaN</td>\n",
       "    </tr>\n",
       "    <tr>\n",
       "      <th>6</th>\n",
       "      <td>39026145</td>\n",
       "      <td>3 15:29:08</td>\n",
       "      <td>5499</td>\n",
       "      <td>1010</td>\n",
       "      <td>-1010.66</td>\n",
       "      <td>NaN</td>\n",
       "    </tr>\n",
       "    <tr>\n",
       "      <th>7</th>\n",
       "      <td>39026145</td>\n",
       "      <td>4 12:11:57</td>\n",
       "      <td>5200</td>\n",
       "      <td>1010</td>\n",
       "      <td>-2829.85</td>\n",
       "      <td>NaN</td>\n",
       "    </tr>\n",
       "    <tr>\n",
       "      <th>8</th>\n",
       "      <td>39026145</td>\n",
       "      <td>5 15:19:19</td>\n",
       "      <td>5499</td>\n",
       "      <td>1010</td>\n",
       "      <td>-628.86</td>\n",
       "      <td>NaN</td>\n",
       "    </tr>\n",
       "    <tr>\n",
       "      <th>9</th>\n",
       "      <td>39026145</td>\n",
       "      <td>6 07:08:31</td>\n",
       "      <td>4814</td>\n",
       "      <td>1030</td>\n",
       "      <td>-5614.79</td>\n",
       "      <td>NaN</td>\n",
       "    </tr>\n",
       "  </tbody>\n",
       "</table>\n",
       "</div>"
      ],
      "text/plain": [
       "   customer_id tr_datetime  mcc_code  tr_type    amount term_id\n",
       "0     39026145  0 10:23:26      4814     1030  -2245.92     NaN\n",
       "1     39026145  1 10:19:29      6011     7010  56147.89     NaN\n",
       "2     39026145  1 10:20:56      4829     2330 -56147.89     NaN\n",
       "3     39026145  1 10:39:54      5499     1010  -1392.47     NaN\n",
       "4     39026145  2 15:33:42      5499     1010   -920.83     NaN\n",
       "5     39026145  2 15:53:49      5541     1010 -14643.37     NaN\n",
       "6     39026145  3 15:29:08      5499     1010  -1010.66     NaN\n",
       "7     39026145  4 12:11:57      5200     1010  -2829.85     NaN\n",
       "8     39026145  5 15:19:19      5499     1010   -628.86     NaN\n",
       "9     39026145  6 07:08:31      4814     1030  -5614.79     NaN"
      ]
     },
     "execution_count": 2,
     "metadata": {},
     "output_type": "execute_result"
    }
   ],
   "source": [
    "transactions = pd.read_csv(PATH + 'transactions.csv')\n",
    "transactions.head(10)"
   ]
  },
  {
   "cell_type": "code",
   "execution_count": 3,
   "metadata": {},
   "outputs": [
    {
     "data": {
      "text/plain": [
       "(6849346, 6)"
      ]
     },
     "execution_count": 3,
     "metadata": {},
     "output_type": "execute_result"
    }
   ],
   "source": [
    "transactions.shape"
   ]
  },
  {
   "cell_type": "code",
   "execution_count": 4,
   "metadata": {},
   "outputs": [
    {
     "name": "stdout",
     "output_type": "stream",
     "text": [
      "<class 'pandas.core.frame.DataFrame'>\n",
      "RangeIndex: 6849346 entries, 0 to 6849345\n",
      "Data columns (total 6 columns):\n",
      " #   Column       Non-Null Count    Dtype  \n",
      "---  ------       --------------    -----  \n",
      " 0   customer_id  6849346 non-null  int64  \n",
      " 1   tr_datetime  6849346 non-null  object \n",
      " 2   mcc_code     6849346 non-null  int64  \n",
      " 3   tr_type      6849346 non-null  int64  \n",
      " 4   amount       6849346 non-null  float64\n",
      " 5   term_id      4084151 non-null  object \n",
      "dtypes: float64(1), int64(3), object(2)\n",
      "memory usage: 313.5+ MB\n"
     ]
    }
   ],
   "source": [
    "transactions.info(null_counts=True)"
   ]
  },
  {
   "cell_type": "markdown",
   "metadata": {},
   "source": [
    "У признака **term_id** есть пропущенные значения:"
   ]
  },
  {
   "cell_type": "code",
   "execution_count": 5,
   "metadata": {},
   "outputs": [
    {
     "name": "stdout",
     "output_type": "stream",
     "text": [
      "Процент пропущенных значений для признака term_id: 40.4%\n"
     ]
    }
   ],
   "source": [
    "print(\"Процент пропущенных значений для признака term_id: {0:.1%}\" \\\n",
    "          .format(transactions['term_id'].isna().sum() / transactions.shape[0]))"
   ]
  },
  {
   "cell_type": "markdown",
   "metadata": {},
   "source": [
    "Посмотрим на значения признака **tr_datetime**:"
   ]
  },
  {
   "cell_type": "code",
   "execution_count": 6,
   "metadata": {},
   "outputs": [
    {
     "data": {
      "text/plain": [
       "6849326    445 13:44:21\n",
       "6849327    445 13:58:48\n",
       "6849328    445 20:22:03\n",
       "6849329    446 19:04:27\n",
       "6849330    446 19:19:25\n",
       "6849331    447 07:22:13\n",
       "6849332    448 20:25:26\n",
       "6849333    450 16:37:55\n",
       "6849334    451 11:12:53\n",
       "6849335    452 11:52:41\n",
       "6849336    452 12:10:49\n",
       "6849337    452 15:37:48\n",
       "6849338    452 15:53:52\n",
       "6849339    452 17:43:16\n",
       "6849340    452 19:33:04\n",
       "6849341    453 16:03:02\n",
       "6849342    454 10:54:60\n",
       "6849343    454 14:23:59\n",
       "6849344    454 16:11:53\n",
       "6849345    454 18:06:30\n",
       "Name: tr_datetime, dtype: object"
      ]
     },
     "execution_count": 6,
     "metadata": {},
     "output_type": "execute_result"
    }
   ],
   "source": [
    "transactions['tr_datetime'].tail(20)"
   ]
  },
  {
   "cell_type": "markdown",
   "metadata": {},
   "source": [
    "В выборке есть данные за 454 дня. Чтобы с этим признаком было удобно работать, необходимо его преобразовать:"
   ]
  },
  {
   "cell_type": "code",
   "execution_count": 7,
   "metadata": {},
   "outputs": [],
   "source": [
    "transactions['day'] = transactions['tr_datetime'].map(lambda x: x.split()[0]).astype(int)\n",
    "transactions['time'] = pd.to_datetime(transactions['tr_datetime'].map(lambda x: x.split()[1]), format='%H:%M:%S')"
   ]
  },
  {
   "cell_type": "code",
   "execution_count": 8,
   "metadata": {},
   "outputs": [],
   "source": [
    "transactions['hour'] = transactions['time'].dt.hour\n",
    "transactions['min'] = transactions['time'].dt.minute\n",
    "transactions['sec'] = transactions['time'].dt.second"
   ]
  },
  {
   "cell_type": "code",
   "execution_count": 9,
   "metadata": {},
   "outputs": [],
   "source": [
    "transactions.drop(['tr_datetime', 'time'], axis=1, inplace=True)"
   ]
  },
  {
   "cell_type": "code",
   "execution_count": 10,
   "metadata": {},
   "outputs": [
    {
     "data": {
      "text/html": [
       "<div>\n",
       "<style scoped>\n",
       "    .dataframe tbody tr th:only-of-type {\n",
       "        vertical-align: middle;\n",
       "    }\n",
       "\n",
       "    .dataframe tbody tr th {\n",
       "        vertical-align: top;\n",
       "    }\n",
       "\n",
       "    .dataframe thead th {\n",
       "        text-align: right;\n",
       "    }\n",
       "</style>\n",
       "<table border=\"1\" class=\"dataframe\">\n",
       "  <thead>\n",
       "    <tr style=\"text-align: right;\">\n",
       "      <th></th>\n",
       "      <th>customer_id</th>\n",
       "      <th>mcc_code</th>\n",
       "      <th>tr_type</th>\n",
       "      <th>amount</th>\n",
       "      <th>term_id</th>\n",
       "      <th>day</th>\n",
       "      <th>hour</th>\n",
       "      <th>min</th>\n",
       "      <th>sec</th>\n",
       "    </tr>\n",
       "  </thead>\n",
       "  <tbody>\n",
       "    <tr>\n",
       "      <th>74348</th>\n",
       "      <td>83805343</td>\n",
       "      <td>6011</td>\n",
       "      <td>2010</td>\n",
       "      <td>-13475.49</td>\n",
       "      <td>690226</td>\n",
       "      <td>447</td>\n",
       "      <td>15</td>\n",
       "      <td>31</td>\n",
       "      <td>46</td>\n",
       "    </tr>\n",
       "    <tr>\n",
       "      <th>591849</th>\n",
       "      <td>63697046</td>\n",
       "      <td>4814</td>\n",
       "      <td>1030</td>\n",
       "      <td>-2245.92</td>\n",
       "      <td>888996</td>\n",
       "      <td>226</td>\n",
       "      <td>10</td>\n",
       "      <td>33</td>\n",
       "      <td>38</td>\n",
       "    </tr>\n",
       "    <tr>\n",
       "      <th>2020344</th>\n",
       "      <td>7999570</td>\n",
       "      <td>4829</td>\n",
       "      <td>2370</td>\n",
       "      <td>-4491.83</td>\n",
       "      <td>NaN</td>\n",
       "      <td>54</td>\n",
       "      <td>16</td>\n",
       "      <td>58</td>\n",
       "      <td>56</td>\n",
       "    </tr>\n",
       "    <tr>\n",
       "      <th>2435043</th>\n",
       "      <td>10845911</td>\n",
       "      <td>6010</td>\n",
       "      <td>7071</td>\n",
       "      <td>336887.37</td>\n",
       "      <td>NaN</td>\n",
       "      <td>193</td>\n",
       "      <td>14</td>\n",
       "      <td>31</td>\n",
       "      <td>56</td>\n",
       "    </tr>\n",
       "    <tr>\n",
       "      <th>974899</th>\n",
       "      <td>74921898</td>\n",
       "      <td>6011</td>\n",
       "      <td>7010</td>\n",
       "      <td>22459.16</td>\n",
       "      <td>956452</td>\n",
       "      <td>373</td>\n",
       "      <td>14</td>\n",
       "      <td>58</td>\n",
       "      <td>32</td>\n",
       "    </tr>\n",
       "    <tr>\n",
       "      <th>1720832</th>\n",
       "      <td>13637343</td>\n",
       "      <td>5331</td>\n",
       "      <td>1010</td>\n",
       "      <td>-2066.69</td>\n",
       "      <td>10264836</td>\n",
       "      <td>385</td>\n",
       "      <td>12</td>\n",
       "      <td>57</td>\n",
       "      <td>8</td>\n",
       "    </tr>\n",
       "    <tr>\n",
       "      <th>72547</th>\n",
       "      <td>71946204</td>\n",
       "      <td>6011</td>\n",
       "      <td>2010</td>\n",
       "      <td>-65131.56</td>\n",
       "      <td>258579</td>\n",
       "      <td>424</td>\n",
       "      <td>10</td>\n",
       "      <td>29</td>\n",
       "      <td>54</td>\n",
       "    </tr>\n",
       "    <tr>\n",
       "      <th>6698657</th>\n",
       "      <td>14209820</td>\n",
       "      <td>6010</td>\n",
       "      <td>7030</td>\n",
       "      <td>56147.89</td>\n",
       "      <td>412586</td>\n",
       "      <td>374</td>\n",
       "      <td>18</td>\n",
       "      <td>39</td>\n",
       "      <td>41</td>\n",
       "    </tr>\n",
       "    <tr>\n",
       "      <th>2877595</th>\n",
       "      <td>28641319</td>\n",
       "      <td>4829</td>\n",
       "      <td>2371</td>\n",
       "      <td>-291969.05</td>\n",
       "      <td>888912</td>\n",
       "      <td>432</td>\n",
       "      <td>15</td>\n",
       "      <td>12</td>\n",
       "      <td>1</td>\n",
       "    </tr>\n",
       "    <tr>\n",
       "      <th>782267</th>\n",
       "      <td>61133128</td>\n",
       "      <td>6011</td>\n",
       "      <td>2010</td>\n",
       "      <td>-673774.73</td>\n",
       "      <td>470343</td>\n",
       "      <td>210</td>\n",
       "      <td>18</td>\n",
       "      <td>30</td>\n",
       "      <td>35</td>\n",
       "    </tr>\n",
       "  </tbody>\n",
       "</table>\n",
       "</div>"
      ],
      "text/plain": [
       "         customer_id  mcc_code  tr_type     amount   term_id  day  hour  min  \\\n",
       "74348       83805343      6011     2010  -13475.49    690226  447    15   31   \n",
       "591849      63697046      4814     1030   -2245.92    888996  226    10   33   \n",
       "2020344      7999570      4829     2370   -4491.83       NaN   54    16   58   \n",
       "2435043     10845911      6010     7071  336887.37       NaN  193    14   31   \n",
       "974899      74921898      6011     7010   22459.16    956452  373    14   58   \n",
       "1720832     13637343      5331     1010   -2066.69  10264836  385    12   57   \n",
       "72547       71946204      6011     2010  -65131.56    258579  424    10   29   \n",
       "6698657     14209820      6010     7030   56147.89    412586  374    18   39   \n",
       "2877595     28641319      4829     2371 -291969.05    888912  432    15   12   \n",
       "782267      61133128      6011     2010 -673774.73    470343  210    18   30   \n",
       "\n",
       "         sec  \n",
       "74348     46  \n",
       "591849    38  \n",
       "2020344   56  \n",
       "2435043   56  \n",
       "974899    32  \n",
       "1720832    8  \n",
       "72547     54  \n",
       "6698657   41  \n",
       "2877595    1  \n",
       "782267    35  "
      ]
     },
     "execution_count": 10,
     "metadata": {},
     "output_type": "execute_result"
    }
   ],
   "source": [
    "transactions.sample(10)"
   ]
  },
  {
   "cell_type": "markdown",
   "metadata": {},
   "source": [
    "Посмотрим на количество уникальных значений по каждому признаку:"
   ]
  },
  {
   "cell_type": "code",
   "execution_count": 11,
   "metadata": {},
   "outputs": [
    {
     "data": {
      "text/plain": [
       "customer_id     15000\n",
       "mcc_code          184\n",
       "tr_type            77\n",
       "amount         342246\n",
       "term_id        440338\n",
       "day               457\n",
       "hour               24\n",
       "min                60\n",
       "sec                60\n",
       "dtype: int64"
      ]
     },
     "execution_count": 11,
     "metadata": {},
     "output_type": "execute_result"
    }
   ],
   "source": [
    "transactions.nunique()"
   ]
  },
  {
   "cell_type": "markdown",
   "metadata": {},
   "source": [
    "Посмотрим на другие имеющиеся данные:"
   ]
  },
  {
   "cell_type": "code",
   "execution_count": 12,
   "metadata": {},
   "outputs": [
    {
     "data": {
      "text/html": [
       "<div>\n",
       "<style scoped>\n",
       "    .dataframe tbody tr th:only-of-type {\n",
       "        vertical-align: middle;\n",
       "    }\n",
       "\n",
       "    .dataframe tbody tr th {\n",
       "        vertical-align: top;\n",
       "    }\n",
       "\n",
       "    .dataframe thead th {\n",
       "        text-align: right;\n",
       "    }\n",
       "</style>\n",
       "<table border=\"1\" class=\"dataframe\">\n",
       "  <thead>\n",
       "    <tr style=\"text-align: right;\">\n",
       "      <th></th>\n",
       "      <th>tr_type</th>\n",
       "      <th>tr_description</th>\n",
       "    </tr>\n",
       "  </thead>\n",
       "  <tbody>\n",
       "    <tr>\n",
       "      <th>0</th>\n",
       "      <td>3200</td>\n",
       "      <td>Плата за предоставление услуг посредством моби...</td>\n",
       "    </tr>\n",
       "    <tr>\n",
       "      <th>1</th>\n",
       "      <td>3210</td>\n",
       "      <td>Плата за предоставление отчета по счету карты ...</td>\n",
       "    </tr>\n",
       "    <tr>\n",
       "      <th>2</th>\n",
       "      <td>3800</td>\n",
       "      <td>Плата за обслуживание банковской карты (за пер...</td>\n",
       "    </tr>\n",
       "    <tr>\n",
       "      <th>3</th>\n",
       "      <td>4000</td>\n",
       "      <td>Плата за получение наличных в Сбербанке</td>\n",
       "    </tr>\n",
       "    <tr>\n",
       "      <th>4</th>\n",
       "      <td>4001</td>\n",
       "      <td>Плата за получение наличных в Сбербанке (в дру...</td>\n",
       "    </tr>\n",
       "  </tbody>\n",
       "</table>\n",
       "</div>"
      ],
      "text/plain": [
       "   tr_type                                     tr_description\n",
       "0     3200  Плата за предоставление услуг посредством моби...\n",
       "1     3210  Плата за предоставление отчета по счету карты ...\n",
       "2     3800  Плата за обслуживание банковской карты (за пер...\n",
       "3     4000            Плата за получение наличных в Сбербанке\n",
       "4     4001  Плата за получение наличных в Сбербанке (в дру..."
      ]
     },
     "execution_count": 12,
     "metadata": {},
     "output_type": "execute_result"
    }
   ],
   "source": [
    "# Типы транзакций \n",
    "tr_types = pd.read_csv(PATH + 'tr_types.csv', sep=';')\n",
    "tr_types.head()"
   ]
  },
  {
   "cell_type": "code",
   "execution_count": 13,
   "metadata": {},
   "outputs": [
    {
     "data": {
      "text/plain": [
       "(155, 2)"
      ]
     },
     "execution_count": 13,
     "metadata": {},
     "output_type": "execute_result"
    }
   ],
   "source": [
    "tr_types.shape"
   ]
  },
  {
   "cell_type": "code",
   "execution_count": 14,
   "metadata": {},
   "outputs": [
    {
     "data": {
      "text/html": [
       "<div>\n",
       "<style scoped>\n",
       "    .dataframe tbody tr th:only-of-type {\n",
       "        vertical-align: middle;\n",
       "    }\n",
       "\n",
       "    .dataframe tbody tr th {\n",
       "        vertical-align: top;\n",
       "    }\n",
       "\n",
       "    .dataframe thead th {\n",
       "        text-align: right;\n",
       "    }\n",
       "</style>\n",
       "<table border=\"1\" class=\"dataframe\">\n",
       "  <thead>\n",
       "    <tr style=\"text-align: right;\">\n",
       "      <th></th>\n",
       "      <th>mcc_code</th>\n",
       "      <th>mcc_description</th>\n",
       "    </tr>\n",
       "  </thead>\n",
       "  <tbody>\n",
       "    <tr>\n",
       "      <th>0</th>\n",
       "      <td>742</td>\n",
       "      <td>Ветеринарные услуги</td>\n",
       "    </tr>\n",
       "    <tr>\n",
       "      <th>1</th>\n",
       "      <td>1711</td>\n",
       "      <td>Генеральные подрядчики по вентиляции, теплосна...</td>\n",
       "    </tr>\n",
       "    <tr>\n",
       "      <th>2</th>\n",
       "      <td>1731</td>\n",
       "      <td>Подрядчики по электричеству</td>\n",
       "    </tr>\n",
       "    <tr>\n",
       "      <th>3</th>\n",
       "      <td>1799</td>\n",
       "      <td>Подрядчики, специализированная торговля — нигд...</td>\n",
       "    </tr>\n",
       "    <tr>\n",
       "      <th>4</th>\n",
       "      <td>2741</td>\n",
       "      <td>Разнообразные издательства/печатное дело</td>\n",
       "    </tr>\n",
       "  </tbody>\n",
       "</table>\n",
       "</div>"
      ],
      "text/plain": [
       "   mcc_code                                    mcc_description\n",
       "0       742                                Ветеринарные услуги\n",
       "1      1711  Генеральные подрядчики по вентиляции, теплосна...\n",
       "2      1731                        Подрядчики по электричеству\n",
       "3      1799  Подрядчики, специализированная торговля — нигд...\n",
       "4      2741           Разнообразные издательства/печатное дело"
      ]
     },
     "execution_count": 14,
     "metadata": {},
     "output_type": "execute_result"
    }
   ],
   "source": [
    "# MCC-Коды транзакций \n",
    "mcc_codes = pd.read_csv(PATH + 'tr_mcc_codes.csv', sep=';')\n",
    "mcc_codes.head()"
   ]
  },
  {
   "cell_type": "code",
   "execution_count": 15,
   "metadata": {},
   "outputs": [
    {
     "data": {
      "text/plain": [
       "(184, 2)"
      ]
     },
     "execution_count": 15,
     "metadata": {},
     "output_type": "execute_result"
    }
   ],
   "source": [
    "mcc_codes.shape"
   ]
  },
  {
   "cell_type": "code",
   "execution_count": 16,
   "metadata": {},
   "outputs": [
    {
     "data": {
      "text/html": [
       "<div>\n",
       "<style scoped>\n",
       "    .dataframe tbody tr th:only-of-type {\n",
       "        vertical-align: middle;\n",
       "    }\n",
       "\n",
       "    .dataframe tbody tr th {\n",
       "        vertical-align: top;\n",
       "    }\n",
       "\n",
       "    .dataframe thead th {\n",
       "        text-align: right;\n",
       "    }\n",
       "</style>\n",
       "<table border=\"1\" class=\"dataframe\">\n",
       "  <thead>\n",
       "    <tr style=\"text-align: right;\">\n",
       "      <th></th>\n",
       "      <th>customer_id</th>\n",
       "      <th>gender</th>\n",
       "    </tr>\n",
       "  </thead>\n",
       "  <tbody>\n",
       "    <tr>\n",
       "      <th>0</th>\n",
       "      <td>10928546</td>\n",
       "      <td>1</td>\n",
       "    </tr>\n",
       "    <tr>\n",
       "      <th>1</th>\n",
       "      <td>69348468</td>\n",
       "      <td>1</td>\n",
       "    </tr>\n",
       "    <tr>\n",
       "      <th>2</th>\n",
       "      <td>61009479</td>\n",
       "      <td>0</td>\n",
       "    </tr>\n",
       "    <tr>\n",
       "      <th>3</th>\n",
       "      <td>74045822</td>\n",
       "      <td>0</td>\n",
       "    </tr>\n",
       "    <tr>\n",
       "      <th>4</th>\n",
       "      <td>27979606</td>\n",
       "      <td>1</td>\n",
       "    </tr>\n",
       "  </tbody>\n",
       "</table>\n",
       "</div>"
      ],
      "text/plain": [
       "   customer_id  gender\n",
       "0     10928546       1\n",
       "1     69348468       1\n",
       "2     61009479       0\n",
       "3     74045822       0\n",
       "4     27979606       1"
      ]
     },
     "execution_count": 16,
     "metadata": {},
     "output_type": "execute_result"
    }
   ],
   "source": [
    "# Информация по полу клиентов\n",
    "gender = pd.read_csv(PATH + 'gender_train.csv')\n",
    "gender.head()"
   ]
  },
  {
   "cell_type": "code",
   "execution_count": 17,
   "metadata": {},
   "outputs": [
    {
     "data": {
      "text/plain": [
       "(8400, 2)"
      ]
     },
     "execution_count": 17,
     "metadata": {},
     "output_type": "execute_result"
    }
   ],
   "source": [
    "gender.shape"
   ]
  },
  {
   "cell_type": "code",
   "execution_count": 18,
   "metadata": {},
   "outputs": [
    {
     "data": {
      "image/png": "[encoded data removed]",
      "text/plain": [
       "<Figure size 432x288 with 1 Axes>"
      ]
     },
     "metadata": {},
     "output_type": "display_data"
    }
   ],
   "source": [
    "plt.pie(gender['gender'].value_counts(), labels=gender['gender'].value_counts().index, \\\n",
    "            autopct=\"%0.1f%%\", explode = [0.01, 0.01]);\n",
    "plt.title(\"Gender\");"
   ]
  },
  {
   "cell_type": "markdown",
   "metadata": {},
   "source": [
    "Есть небольшой дисбаланс классов."
   ]
  },
  {
   "cell_type": "code",
   "execution_count": 19,
   "metadata": {},
   "outputs": [
    {
     "data": {
      "text/html": [
       "<div>\n",
       "<style scoped>\n",
       "    .dataframe tbody tr th:only-of-type {\n",
       "        vertical-align: middle;\n",
       "    }\n",
       "\n",
       "    .dataframe tbody tr th {\n",
       "        vertical-align: top;\n",
       "    }\n",
       "\n",
       "    .dataframe thead th {\n",
       "        text-align: right;\n",
       "    }\n",
       "</style>\n",
       "<table border=\"1\" class=\"dataframe\">\n",
       "  <thead>\n",
       "    <tr style=\"text-align: right;\">\n",
       "      <th></th>\n",
       "      <th>customer_id</th>\n",
       "      <th>probability</th>\n",
       "    </tr>\n",
       "  </thead>\n",
       "  <tbody>\n",
       "    <tr>\n",
       "      <th>0</th>\n",
       "      <td>75562265</td>\n",
       "      <td>0.152664</td>\n",
       "    </tr>\n",
       "    <tr>\n",
       "      <th>1</th>\n",
       "      <td>84816985</td>\n",
       "      <td>0.302357</td>\n",
       "    </tr>\n",
       "    <tr>\n",
       "      <th>2</th>\n",
       "      <td>54129921</td>\n",
       "      <td>0.062036</td>\n",
       "    </tr>\n",
       "    <tr>\n",
       "      <th>3</th>\n",
       "      <td>23160845</td>\n",
       "      <td>0.459860</td>\n",
       "    </tr>\n",
       "    <tr>\n",
       "      <th>4</th>\n",
       "      <td>45646491</td>\n",
       "      <td>0.835253</td>\n",
       "    </tr>\n",
       "  </tbody>\n",
       "</table>\n",
       "</div>"
      ],
      "text/plain": [
       "   customer_id  probability\n",
       "0     75562265     0.152664\n",
       "1     84816985     0.302357\n",
       "2     54129921     0.062036\n",
       "3     23160845     0.459860\n",
       "4     45646491     0.835253"
      ]
     },
     "execution_count": 19,
     "metadata": {},
     "output_type": "execute_result"
    }
   ],
   "source": [
    "# Пример решения\n",
    "submission = pd.read_csv(PATH + 'gender_test_kaggle_sample_submission.csv', sep=',')\n",
    "submission.head()"
   ]
  },
  {
   "cell_type": "code",
   "execution_count": 20,
   "metadata": {},
   "outputs": [
    {
     "data": {
      "text/plain": [
       "(3600, 2)"
      ]
     },
     "execution_count": 20,
     "metadata": {},
     "output_type": "execute_result"
    }
   ],
   "source": [
    "submission.shape"
   ]
  },
  {
   "cell_type": "markdown",
   "metadata": {},
   "source": [
    "# Очистка и преобразование данных"
   ]
  },
  {
   "cell_type": "markdown",
   "metadata": {},
   "source": [
    "Заметим, что значение целевой переменной **gender** известно для **8400** клиентов, и нужно предсказать его для **3600** клиентов. Проверим количество клиентов, по которым у нас есть данные о транзакциях:"
   ]
  },
  {
   "cell_type": "code",
   "execution_count": 21,
   "metadata": {},
   "outputs": [
    {
     "data": {
      "text/plain": [
       "15000"
      ]
     },
     "execution_count": 21,
     "metadata": {},
     "output_type": "execute_result"
    }
   ],
   "source": [
    "transactions['customer_id'].nunique()"
   ]
  },
  {
   "cell_type": "markdown",
   "metadata": {},
   "source": [
    "Проверим, что id клиентов, по поторым нужно сделать предсказания, не пересекаются с id клиентов, пол которых нам точно известен:"
   ]
  },
  {
   "cell_type": "code",
   "execution_count": 22,
   "metadata": {},
   "outputs": [
    {
     "name": "stdout",
     "output_type": "stream",
     "text": [
      "Пересечений нет\n"
     ]
    }
   ],
   "source": [
    "train_id = set(gender['customer_id'].unique())\n",
    "test_id = set(submission['customer_id'].unique())\n",
    "print(\"Есть пересечения\" if len(train_id.intersection(test_id)) else \"Пересечений нет\")\n",
    "all_id = train_id.union(test_id)"
   ]
  },
  {
   "cell_type": "markdown",
   "metadata": {},
   "source": [
    "Можем удалить записи о транзакциях клиентов, пол которых нам не известен и делать предсказания для которых нам не нужно:"
   ]
  },
  {
   "cell_type": "code",
   "execution_count": 23,
   "metadata": {},
   "outputs": [
    {
     "name": "stdout",
     "output_type": "stream",
     "text": [
      "Осталось клиентов в данных о транзакциях:  12000\n"
     ]
    },
    {
     "data": {
      "text/plain": [
       "(5393337, 9)"
      ]
     },
     "execution_count": 23,
     "metadata": {},
     "output_type": "execute_result"
    }
   ],
   "source": [
    "transactions = transactions[transactions['customer_id'].isin(all_id)]\n",
    "print(\"Осталось клиентов в данных о транзакциях: \", transactions['customer_id'].nunique())\n",
    "transactions.shape"
   ]
  },
  {
   "cell_type": "markdown",
   "metadata": {},
   "source": [
    "Посмотрим на суммы транзакций:"
   ]
  },
  {
   "cell_type": "code",
   "execution_count": 24,
   "metadata": {},
   "outputs": [
    {
     "data": {
      "text/plain": [
       "count    5.393337e+06\n",
       "mean    -2.106074e+04\n",
       "std      4.873910e+05\n",
       "min     -1.459845e+08\n",
       "25%     -2.245916e+04\n",
       "50%     -5.614790e+03\n",
       "75%     -1.122960e+03\n",
       "max      1.459845e+08\n",
       "Name: amount, dtype: float64"
      ]
     },
     "execution_count": 24,
     "metadata": {},
     "output_type": "execute_result"
    }
   ],
   "source": [
    "transactions['amount'].describe()"
   ]
  },
  {
   "cell_type": "code",
   "execution_count": 25,
   "metadata": {},
   "outputs": [
    {
     "data": {
      "image/png": "[encoded data removed]",
      "text/plain": [
       "<Figure size 432x288 with 1 Axes>"
      ]
     },
     "metadata": {
      "needs_background": "light"
     },
     "output_type": "display_data"
    }
   ],
   "source": [
    "# Для построения гистограммы избавимся от выбросов \n",
    "q_05 = transactions['amount'].quantile(0.05)\n",
    "q_95 = transactions['amount'].quantile(0.95)\n",
    "plt.title('amount')\n",
    "transactions['amount'][(transactions['amount'] < q_95) & (transactions['amount'] > q_05)].hist(bins=25);"
   ]
  },
  {
   "cell_type": "markdown",
   "metadata": {},
   "source": [
    "Имеются как положительные, так и отрицательные суммы транзакций."
   ]
  },
  {
   "cell_type": "code",
   "execution_count": 31,
   "metadata": {},
   "outputs": [
    {
     "data": {
      "text/plain": [
       "22459.16     48872\n",
       "112295.79    40972\n",
       "44918.32     33128\n",
       "67377.47     26026\n",
       "11229.58     25485\n",
       "             ...  \n",
       "4531.14          1\n",
       "5155.72          1\n",
       "29461.92         1\n",
       "18126.56         1\n",
       "36331.06         1\n",
       "Name: amount, Length: 67810, dtype: int64"
      ]
     },
     "execution_count": 31,
     "metadata": {},
     "output_type": "execute_result"
    }
   ],
   "source": [
    "transactions['amount'][transactions['amount'] > 0].value_counts()"
   ]
  },
  {
   "cell_type": "code",
   "execution_count": 32,
   "metadata": {},
   "outputs": [
    {
     "data": {
      "text/plain": [
       "-2245.92     318361\n",
       "-1122.96     160361\n",
       "-11229.58    156721\n",
       "-22459.16    154512\n",
       "-4491.83     138945\n",
       "              ...  \n",
       "-39324.41         1\n",
       "-39530.59         1\n",
       "-39311.16         1\n",
       "-24592.55         1\n",
       "-36331.06         1\n",
       "Name: amount, Length: 225744, dtype: int64"
      ]
     },
     "execution_count": 32,
     "metadata": {},
     "output_type": "execute_result"
    }
   ],
   "source": [
    "transactions['amount'][transactions['amount'] < 0].value_counts()"
   ]
  },
  {
   "cell_type": "markdown",
   "metadata": {},
   "source": [
    "Вызывает удивление тот факт, что наиболее часто встречаются не \"круглые\" суммы. Можно заметить, что самые часто встречающиеся суммы как-то связаны друг с другом: 22459.16 = 112295.79 / 5, 44918.32 = 22459.16 * 2 и т.д.\n",
    "\n",
    "Найдем минимальную по модулю сумму транзакции:"
   ]
  },
  {
   "cell_type": "code",
   "execution_count": 33,
   "metadata": {},
   "outputs": [
    {
     "data": {
      "text/plain": [
       "0.22"
      ]
     },
     "execution_count": 33,
     "metadata": {},
     "output_type": "execute_result"
    }
   ],
   "source": [
    "np.abs(transactions['amount']).min()"
   ]
  },
  {
   "cell_type": "markdown",
   "metadata": {},
   "source": [
    "Вероятно, это значение может соответствовать сумме 0.01 руб. Чтобы перейти к значениям в этом масштабе, поделим суммы транзакций на (11.229579 * 2):"
   ]
  },
  {
   "cell_type": "code",
   "execution_count": 34,
   "metadata": {},
   "outputs": [],
   "source": [
    "transactions['amount_norm'] = np.round(transactions['amount'] / (11.229579 * 2), 2)"
   ]
  },
  {
   "cell_type": "code",
   "execution_count": 35,
   "metadata": {},
   "outputs": [
    {
     "data": {
      "text/plain": [
       "1000.00    48872\n",
       "5000.00    40972\n",
       "2000.00    33128\n",
       "3000.00    26026\n",
       "500.00     25485\n",
       "           ...  \n",
       "2393.56        1\n",
       "438.55         1\n",
       "241.82         1\n",
       "240.18         1\n",
       "1309.03        1\n",
       "Name: amount_norm, Length: 67810, dtype: int64"
      ]
     },
     "execution_count": 35,
     "metadata": {},
     "output_type": "execute_result"
    }
   ],
   "source": [
    "transactions['amount_norm'][transactions['amount_norm'] > 0].value_counts()"
   ]
  },
  {
   "cell_type": "code",
   "execution_count": 36,
   "metadata": {},
   "outputs": [
    {
     "data": {
      "text/plain": [
       "-100.00      318361\n",
       "-50.00       160361\n",
       "-500.00      156721\n",
       "-1000.00     154512\n",
       "-200.00      138945\n",
       "              ...  \n",
       "-4669.56          1\n",
       "-4670.06          1\n",
       "-54676.60         1\n",
       "-7825.54          1\n",
       "-1269.12          1\n",
       "Name: amount_norm, Length: 225744, dtype: int64"
      ]
     },
     "execution_count": 36,
     "metadata": {},
     "output_type": "execute_result"
    }
   ],
   "source": [
    "transactions['amount_norm'][transactions['amount_norm'] < 0].value_counts()"
   ]
  },
  {
   "cell_type": "code",
   "execution_count": 37,
   "metadata": {},
   "outputs": [
    {
     "data": {
      "text/html": [
       "<div>\n",
       "<style scoped>\n",
       "    .dataframe tbody tr th:only-of-type {\n",
       "        vertical-align: middle;\n",
       "    }\n",
       "\n",
       "    .dataframe tbody tr th {\n",
       "        vertical-align: top;\n",
       "    }\n",
       "\n",
       "    .dataframe thead th {\n",
       "        text-align: right;\n",
       "    }\n",
       "</style>\n",
       "<table border=\"1\" class=\"dataframe\">\n",
       "  <thead>\n",
       "    <tr style=\"text-align: right;\">\n",
       "      <th></th>\n",
       "      <th>customer_id</th>\n",
       "      <th>mcc_code</th>\n",
       "      <th>tr_type</th>\n",
       "      <th>amount</th>\n",
       "      <th>term_id</th>\n",
       "      <th>day</th>\n",
       "      <th>hour</th>\n",
       "      <th>min</th>\n",
       "      <th>sec</th>\n",
       "      <th>amount_norm</th>\n",
       "    </tr>\n",
       "  </thead>\n",
       "  <tbody>\n",
       "    <tr>\n",
       "      <th>2257581</th>\n",
       "      <td>46557366</td>\n",
       "      <td>5411</td>\n",
       "      <td>1010</td>\n",
       "      <td>-3066.12</td>\n",
       "      <td>022084</td>\n",
       "      <td>336</td>\n",
       "      <td>13</td>\n",
       "      <td>3</td>\n",
       "      <td>48</td>\n",
       "      <td>-136.52</td>\n",
       "    </tr>\n",
       "    <tr>\n",
       "      <th>853149</th>\n",
       "      <td>17389182</td>\n",
       "      <td>5812</td>\n",
       "      <td>1210</td>\n",
       "      <td>-138644.87</td>\n",
       "      <td>NaN</td>\n",
       "      <td>217</td>\n",
       "      <td>0</td>\n",
       "      <td>0</td>\n",
       "      <td>0</td>\n",
       "      <td>-6173.20</td>\n",
       "    </tr>\n",
       "    <tr>\n",
       "      <th>3262148</th>\n",
       "      <td>49288762</td>\n",
       "      <td>6010</td>\n",
       "      <td>7030</td>\n",
       "      <td>1527.22</td>\n",
       "      <td>547301</td>\n",
       "      <td>235</td>\n",
       "      <td>13</td>\n",
       "      <td>40</td>\n",
       "      <td>19</td>\n",
       "      <td>68.00</td>\n",
       "    </tr>\n",
       "    <tr>\n",
       "      <th>5071261</th>\n",
       "      <td>36671915</td>\n",
       "      <td>5411</td>\n",
       "      <td>1010</td>\n",
       "      <td>-4386.72</td>\n",
       "      <td>10132451</td>\n",
       "      <td>328</td>\n",
       "      <td>6</td>\n",
       "      <td>21</td>\n",
       "      <td>7</td>\n",
       "      <td>-195.32</td>\n",
       "    </tr>\n",
       "    <tr>\n",
       "      <th>2626753</th>\n",
       "      <td>52275965</td>\n",
       "      <td>4814</td>\n",
       "      <td>1030</td>\n",
       "      <td>-2245.92</td>\n",
       "      <td>NaN</td>\n",
       "      <td>112</td>\n",
       "      <td>20</td>\n",
       "      <td>29</td>\n",
       "      <td>38</td>\n",
       "      <td>-100.00</td>\n",
       "    </tr>\n",
       "    <tr>\n",
       "      <th>225876</th>\n",
       "      <td>85614078</td>\n",
       "      <td>5411</td>\n",
       "      <td>1110</td>\n",
       "      <td>-15536.80</td>\n",
       "      <td>NaN</td>\n",
       "      <td>106</td>\n",
       "      <td>22</td>\n",
       "      <td>2</td>\n",
       "      <td>8</td>\n",
       "      <td>-691.78</td>\n",
       "    </tr>\n",
       "    <tr>\n",
       "      <th>3370522</th>\n",
       "      <td>70490446</td>\n",
       "      <td>5983</td>\n",
       "      <td>1010</td>\n",
       "      <td>-54413.37</td>\n",
       "      <td>644366</td>\n",
       "      <td>354</td>\n",
       "      <td>21</td>\n",
       "      <td>55</td>\n",
       "      <td>31</td>\n",
       "      <td>-2422.77</td>\n",
       "    </tr>\n",
       "    <tr>\n",
       "      <th>4111314</th>\n",
       "      <td>96637590</td>\n",
       "      <td>5995</td>\n",
       "      <td>1010</td>\n",
       "      <td>-9215.22</td>\n",
       "      <td>NaN</td>\n",
       "      <td>103</td>\n",
       "      <td>14</td>\n",
       "      <td>20</td>\n",
       "      <td>23</td>\n",
       "      <td>-410.31</td>\n",
       "    </tr>\n",
       "    <tr>\n",
       "      <th>1038113</th>\n",
       "      <td>94503917</td>\n",
       "      <td>6011</td>\n",
       "      <td>2010</td>\n",
       "      <td>-406510.75</td>\n",
       "      <td>481875</td>\n",
       "      <td>280</td>\n",
       "      <td>12</td>\n",
       "      <td>45</td>\n",
       "      <td>47</td>\n",
       "      <td>-18100.00</td>\n",
       "    </tr>\n",
       "    <tr>\n",
       "      <th>539992</th>\n",
       "      <td>26409535</td>\n",
       "      <td>4829</td>\n",
       "      <td>2331</td>\n",
       "      <td>-561478.94</td>\n",
       "      <td>NaN</td>\n",
       "      <td>54</td>\n",
       "      <td>10</td>\n",
       "      <td>20</td>\n",
       "      <td>20</td>\n",
       "      <td>-25000.00</td>\n",
       "    </tr>\n",
       "  </tbody>\n",
       "</table>\n",
       "</div>"
      ],
      "text/plain": [
       "         customer_id  mcc_code  tr_type     amount   term_id  day  hour  min  \\\n",
       "2257581     46557366      5411     1010   -3066.12    022084  336    13    3   \n",
       "853149      17389182      5812     1210 -138644.87       NaN  217     0    0   \n",
       "3262148     49288762      6010     7030    1527.22    547301  235    13   40   \n",
       "5071261     36671915      5411     1010   -4386.72  10132451  328     6   21   \n",
       "2626753     52275965      4814     1030   -2245.92       NaN  112    20   29   \n",
       "225876      85614078      5411     1110  -15536.80       NaN  106    22    2   \n",
       "3370522     70490446      5983     1010  -54413.37    644366  354    21   55   \n",
       "4111314     96637590      5995     1010   -9215.22       NaN  103    14   20   \n",
       "1038113     94503917      6011     2010 -406510.75    481875  280    12   45   \n",
       "539992      26409535      4829     2331 -561478.94       NaN   54    10   20   \n",
       "\n",
       "         sec  amount_norm  \n",
       "2257581   48      -136.52  \n",
       "853149     0     -6173.20  \n",
       "3262148   19        68.00  \n",
       "5071261    7      -195.32  \n",
       "2626753   38      -100.00  \n",
       "225876     8      -691.78  \n",
       "3370522   31     -2422.77  \n",
       "4111314   23      -410.31  \n",
       "1038113   47    -18100.00  \n",
       "539992    20    -25000.00  "
      ]
     },
     "execution_count": 37,
     "metadata": {},
     "output_type": "execute_result"
    }
   ],
   "source": [
    "transactions.sample(10)"
   ]
  },
  {
   "cell_type": "markdown",
   "metadata": {},
   "source": [
    "Видно, что бОльшая часть сумм в результате такого преобразования выглядит реалистично.\n",
    "\n",
    "В рамках данной задачи знание значений сумм в исходной валюте вряд-ли может быть полезным, но если бы задача была иной, это могло бы представлять ценность."
   ]
  },
  {
   "cell_type": "markdown",
   "metadata": {},
   "source": [
    "# Генерация новых признаков"
   ]
  },
  {
   "cell_type": "markdown",
   "metadata": {},
   "source": [
    "Посмотрим на наиболее частые типы транзакций для положительных и для отрицательных сумм:"
   ]
  },
  {
   "cell_type": "code",
   "execution_count": 522,
   "metadata": {},
   "outputs": [
    {
     "data": {
      "text/plain": [
       "7070    519731\n",
       "7010    206404\n",
       "7030    113683\n",
       "7071     59262\n",
       "7031     24715\n",
       "6110     15756\n",
       "7020     11860\n",
       "7011      8763\n",
       "7021      6440\n",
       "6200      3333\n",
       "7074      2035\n",
       "7014      1847\n",
       "6010      1565\n",
       "6100      1557\n",
       "1110      1022\n",
       "7034       656\n",
       "1100       594\n",
       "6210       416\n",
       "7075       390\n",
       "7040       186\n",
       "Name: tr_type, dtype: int64"
      ]
     },
     "execution_count": 522,
     "metadata": {},
     "output_type": "execute_result"
    }
   ],
   "source": [
    "transactions[transactions['amount'] > 0]['tr_type'].value_counts()[:20]"
   ]
  },
  {
   "cell_type": "code",
   "execution_count": 523,
   "metadata": {},
   "outputs": [
    {
     "data": {
      "image/png": "[encoded data removed]",
      "text/plain": [
       "<Figure size 432x288 with 1 Axes>"
      ]
     },
     "metadata": {},
     "output_type": "display_data"
    }
   ],
   "source": [
    "plt.title('tr_type: amount > 0')\n",
    "transactions[transactions['amount'] > 0]['tr_type'].hist();"
   ]
  },
  {
   "cell_type": "code",
   "execution_count": 524,
   "metadata": {},
   "outputs": [
    {
     "data": {
      "text/plain": [
       "1010    1270049\n",
       "2010     832367\n",
       "1030     778663\n",
       "1110     732893\n",
       "2370     289834\n",
       "1100      95079\n",
       "1200      73866\n",
       "2330      56367\n",
       "2371      50527\n",
       "4071      50524\n",
       "2011      50492\n",
       "4010      25910\n",
       "2331      16478\n",
       "4051      16474\n",
       "1210      16286\n",
       "2020      10466\n",
       "4011       9827\n",
       "2110       7432\n",
       "4110       7404\n",
       "2320       3983\n",
       "Name: tr_type, dtype: int64"
      ]
     },
     "execution_count": 524,
     "metadata": {},
     "output_type": "execute_result"
    }
   ],
   "source": [
    "transactions[transactions['amount'] < 0]['tr_type'].value_counts()[:20]"
   ]
  },
  {
   "cell_type": "code",
   "execution_count": 525,
   "metadata": {},
   "outputs": [
    {
     "data": {
      "image/png": "[encoded data removed]",
      "text/plain": [
       "<Figure size 432x288 with 1 Axes>"
      ]
     },
     "metadata": {},
     "output_type": "display_data"
    }
   ],
   "source": [
    "plt.title('tr_type: amount < 0')\n",
    "transactions[transactions['amount'] < 0]['tr_type'].hist();"
   ]
  },
  {
   "cell_type": "markdown",
   "metadata": {},
   "source": [
    "Основываясь на этих данных и на информации о типах транзакций из предоставленного документа, можем полагать, что транзакции с типами 7xxx - это доходы клиента, а 1xxx...5xxx - его расходы:"
   ]
  },
  {
   "cell_type": "code",
   "execution_count": 526,
   "metadata": {},
   "outputs": [
    {
     "data": {
      "text/html": [
       "<div>\n",
       "<style scoped>\n",
       "    .dataframe tbody tr th:only-of-type {\n",
       "        vertical-align: middle;\n",
       "    }\n",
       "\n",
       "    .dataframe tbody tr th {\n",
       "        vertical-align: top;\n",
       "    }\n",
       "\n",
       "    .dataframe thead th {\n",
       "        text-align: right;\n",
       "    }\n",
       "</style>\n",
       "<table border=\"1\" class=\"dataframe\">\n",
       "  <thead>\n",
       "    <tr style=\"text-align: right;\">\n",
       "      <th></th>\n",
       "      <th>customer_id</th>\n",
       "      <th>expenses</th>\n",
       "    </tr>\n",
       "  </thead>\n",
       "  <tbody>\n",
       "    <tr>\n",
       "      <th>0</th>\n",
       "      <td>6815</td>\n",
       "      <td>-3956007.97</td>\n",
       "    </tr>\n",
       "    <tr>\n",
       "      <th>1</th>\n",
       "      <td>22899</td>\n",
       "      <td>-6448719.64</td>\n",
       "    </tr>\n",
       "    <tr>\n",
       "      <th>2</th>\n",
       "      <td>27914</td>\n",
       "      <td>-3386906.52</td>\n",
       "    </tr>\n",
       "    <tr>\n",
       "      <th>3</th>\n",
       "      <td>28753</td>\n",
       "      <td>-72253691.83</td>\n",
       "    </tr>\n",
       "    <tr>\n",
       "      <th>4</th>\n",
       "      <td>31385</td>\n",
       "      <td>-3431338.03</td>\n",
       "    </tr>\n",
       "  </tbody>\n",
       "</table>\n",
       "</div>"
      ],
      "text/plain": [
       "   customer_id     expenses\n",
       "0         6815  -3956007.97\n",
       "1        22899  -6448719.64\n",
       "2        27914  -3386906.52\n",
       "3        28753 -72253691.83\n",
       "4        31385  -3431338.03"
      ]
     },
     "execution_count": 526,
     "metadata": {},
     "output_type": "execute_result"
    }
   ],
   "source": [
    "# Расходы по клиентам\n",
    "exp_df = transactions[(transactions['tr_type'] >= 1000) & (transactions['tr_type'] < 5000)] \\\n",
    "    .groupby('customer_id', as_index=False).agg({'amount': 'sum'}).rename(columns={'amount': 'expenses'})\n",
    "exp_df.head()"
   ]
  },
  {
   "cell_type": "code",
   "execution_count": 527,
   "metadata": {},
   "outputs": [
    {
     "data": {
      "text/html": [
       "<div>\n",
       "<style scoped>\n",
       "    .dataframe tbody tr th:only-of-type {\n",
       "        vertical-align: middle;\n",
       "    }\n",
       "\n",
       "    .dataframe tbody tr th {\n",
       "        vertical-align: top;\n",
       "    }\n",
       "\n",
       "    .dataframe thead th {\n",
       "        text-align: right;\n",
       "    }\n",
       "</style>\n",
       "<table border=\"1\" class=\"dataframe\">\n",
       "  <thead>\n",
       "    <tr style=\"text-align: right;\">\n",
       "      <th></th>\n",
       "      <th>customer_id</th>\n",
       "      <th>income</th>\n",
       "    </tr>\n",
       "  </thead>\n",
       "  <tbody>\n",
       "    <tr>\n",
       "      <th>0</th>\n",
       "      <td>6815</td>\n",
       "      <td>2706553.10</td>\n",
       "    </tr>\n",
       "    <tr>\n",
       "      <th>1</th>\n",
       "      <td>22899</td>\n",
       "      <td>5818923.05</td>\n",
       "    </tr>\n",
       "    <tr>\n",
       "      <th>2</th>\n",
       "      <td>27914</td>\n",
       "      <td>409879.70</td>\n",
       "    </tr>\n",
       "    <tr>\n",
       "      <th>3</th>\n",
       "      <td>28753</td>\n",
       "      <td>45593617.40</td>\n",
       "    </tr>\n",
       "    <tr>\n",
       "      <th>4</th>\n",
       "      <td>31385</td>\n",
       "      <td>937669.86</td>\n",
       "    </tr>\n",
       "  </tbody>\n",
       "</table>\n",
       "</div>"
      ],
      "text/plain": [
       "   customer_id       income\n",
       "0         6815   2706553.10\n",
       "1        22899   5818923.05\n",
       "2        27914    409879.70\n",
       "3        28753  45593617.40\n",
       "4        31385    937669.86"
      ]
     },
     "execution_count": 527,
     "metadata": {},
     "output_type": "execute_result"
    }
   ],
   "source": [
    "# Доходы по клиентам\n",
    "inc_df = transactions[(transactions['tr_type'] >= 7000) & (transactions['tr_type'] < 8000)] \\\n",
    "    .groupby('customer_id', as_index=False).agg({'amount': 'sum'}).rename(columns={'amount': 'income'})\n",
    "inc_df.head()"
   ]
  },
  {
   "cell_type": "markdown",
   "metadata": {},
   "source": [
    "Посчитаем количество транзакций для каждого клиента:"
   ]
  },
  {
   "cell_type": "code",
   "execution_count": 528,
   "metadata": {},
   "outputs": [
    {
     "data": {
      "text/html": [
       "<div>\n",
       "<style scoped>\n",
       "    .dataframe tbody tr th:only-of-type {\n",
       "        vertical-align: middle;\n",
       "    }\n",
       "\n",
       "    .dataframe tbody tr th {\n",
       "        vertical-align: top;\n",
       "    }\n",
       "\n",
       "    .dataframe thead th {\n",
       "        text-align: right;\n",
       "    }\n",
       "</style>\n",
       "<table border=\"1\" class=\"dataframe\">\n",
       "  <thead>\n",
       "    <tr style=\"text-align: right;\">\n",
       "      <th></th>\n",
       "      <th>customer_id</th>\n",
       "      <th>sum</th>\n",
       "    </tr>\n",
       "  </thead>\n",
       "  <tbody>\n",
       "    <tr>\n",
       "      <th>0</th>\n",
       "      <td>6815</td>\n",
       "      <td>226</td>\n",
       "    </tr>\n",
       "    <tr>\n",
       "      <th>1</th>\n",
       "      <td>22899</td>\n",
       "      <td>234</td>\n",
       "    </tr>\n",
       "    <tr>\n",
       "      <th>2</th>\n",
       "      <td>27914</td>\n",
       "      <td>111</td>\n",
       "    </tr>\n",
       "    <tr>\n",
       "      <th>3</th>\n",
       "      <td>28753</td>\n",
       "      <td>294</td>\n",
       "    </tr>\n",
       "    <tr>\n",
       "      <th>4</th>\n",
       "      <td>31385</td>\n",
       "      <td>365</td>\n",
       "    </tr>\n",
       "  </tbody>\n",
       "</table>\n",
       "</div>"
      ],
      "text/plain": [
       "   customer_id  sum\n",
       "0         6815  226\n",
       "1        22899  234\n",
       "2        27914  111\n",
       "3        28753  294\n",
       "4        31385  365"
      ]
     },
     "execution_count": 528,
     "metadata": {},
     "output_type": "execute_result"
    }
   ],
   "source": [
    "count_df = transactions.groupby('customer_id', as_index=False).agg({'amount': 'count'}).rename(columns={'amount': 'sum'})\n",
    "count_df.head()"
   ]
  },
  {
   "cell_type": "markdown",
   "metadata": {},
   "source": [
    "Добавим данные о доходах и расходах каждого клиента:"
   ]
  },
  {
   "cell_type": "code",
   "execution_count": 529,
   "metadata": {},
   "outputs": [
    {
     "data": {
      "text/html": [
       "<div>\n",
       "<style scoped>\n",
       "    .dataframe tbody tr th:only-of-type {\n",
       "        vertical-align: middle;\n",
       "    }\n",
       "\n",
       "    .dataframe tbody tr th {\n",
       "        vertical-align: top;\n",
       "    }\n",
       "\n",
       "    .dataframe thead th {\n",
       "        text-align: right;\n",
       "    }\n",
       "</style>\n",
       "<table border=\"1\" class=\"dataframe\">\n",
       "  <thead>\n",
       "    <tr style=\"text-align: right;\">\n",
       "      <th></th>\n",
       "      <th>customer_id</th>\n",
       "      <th>sum</th>\n",
       "      <th>income</th>\n",
       "      <th>expenses</th>\n",
       "    </tr>\n",
       "  </thead>\n",
       "  <tbody>\n",
       "    <tr>\n",
       "      <th>0</th>\n",
       "      <td>6815</td>\n",
       "      <td>226</td>\n",
       "      <td>2706553.10</td>\n",
       "      <td>-3956007.97</td>\n",
       "    </tr>\n",
       "    <tr>\n",
       "      <th>1</th>\n",
       "      <td>22899</td>\n",
       "      <td>234</td>\n",
       "      <td>5818923.05</td>\n",
       "      <td>-6448719.64</td>\n",
       "    </tr>\n",
       "    <tr>\n",
       "      <th>2</th>\n",
       "      <td>27914</td>\n",
       "      <td>111</td>\n",
       "      <td>409879.70</td>\n",
       "      <td>-3386906.52</td>\n",
       "    </tr>\n",
       "    <tr>\n",
       "      <th>3</th>\n",
       "      <td>28753</td>\n",
       "      <td>294</td>\n",
       "      <td>45593617.40</td>\n",
       "      <td>-72253691.83</td>\n",
       "    </tr>\n",
       "    <tr>\n",
       "      <th>4</th>\n",
       "      <td>31385</td>\n",
       "      <td>365</td>\n",
       "      <td>937669.86</td>\n",
       "      <td>-3431338.03</td>\n",
       "    </tr>\n",
       "  </tbody>\n",
       "</table>\n",
       "</div>"
      ],
      "text/plain": [
       "   customer_id  sum       income     expenses\n",
       "0         6815  226   2706553.10  -3956007.97\n",
       "1        22899  234   5818923.05  -6448719.64\n",
       "2        27914  111    409879.70  -3386906.52\n",
       "3        28753  294  45593617.40 -72253691.83\n",
       "4        31385  365    937669.86  -3431338.03"
      ]
     },
     "execution_count": 529,
     "metadata": {},
     "output_type": "execute_result"
    }
   ],
   "source": [
    "count_df = count_df.merge(inc_df, on='customer_id', how='outer').merge(exp_df, on='customer_id', how='outer').fillna(0)\n",
    "count_df.head()"
   ]
  },
  {
   "cell_type": "markdown",
   "metadata": {},
   "source": [
    "Добавим еще один признак: разница между доходами и расходами клиента:"
   ]
  },
  {
   "cell_type": "code",
   "execution_count": 530,
   "metadata": {},
   "outputs": [
    {
     "data": {
      "text/html": [
       "<div>\n",
       "<style scoped>\n",
       "    .dataframe tbody tr th:only-of-type {\n",
       "        vertical-align: middle;\n",
       "    }\n",
       "\n",
       "    .dataframe tbody tr th {\n",
       "        vertical-align: top;\n",
       "    }\n",
       "\n",
       "    .dataframe thead th {\n",
       "        text-align: right;\n",
       "    }\n",
       "</style>\n",
       "<table border=\"1\" class=\"dataframe\">\n",
       "  <thead>\n",
       "    <tr style=\"text-align: right;\">\n",
       "      <th></th>\n",
       "      <th>customer_id</th>\n",
       "      <th>sum</th>\n",
       "      <th>income</th>\n",
       "      <th>expenses</th>\n",
       "      <th>delta</th>\n",
       "    </tr>\n",
       "  </thead>\n",
       "  <tbody>\n",
       "    <tr>\n",
       "      <th>0</th>\n",
       "      <td>6815</td>\n",
       "      <td>226</td>\n",
       "      <td>2706553.10</td>\n",
       "      <td>-3956007.97</td>\n",
       "      <td>-1249454.87</td>\n",
       "    </tr>\n",
       "    <tr>\n",
       "      <th>1</th>\n",
       "      <td>22899</td>\n",
       "      <td>234</td>\n",
       "      <td>5818923.05</td>\n",
       "      <td>-6448719.64</td>\n",
       "      <td>-629796.59</td>\n",
       "    </tr>\n",
       "    <tr>\n",
       "      <th>2</th>\n",
       "      <td>27914</td>\n",
       "      <td>111</td>\n",
       "      <td>409879.70</td>\n",
       "      <td>-3386906.52</td>\n",
       "      <td>-2977026.82</td>\n",
       "    </tr>\n",
       "    <tr>\n",
       "      <th>3</th>\n",
       "      <td>28753</td>\n",
       "      <td>294</td>\n",
       "      <td>45593617.40</td>\n",
       "      <td>-72253691.83</td>\n",
       "      <td>-26660074.43</td>\n",
       "    </tr>\n",
       "    <tr>\n",
       "      <th>4</th>\n",
       "      <td>31385</td>\n",
       "      <td>365</td>\n",
       "      <td>937669.86</td>\n",
       "      <td>-3431338.03</td>\n",
       "      <td>-2493668.17</td>\n",
       "    </tr>\n",
       "  </tbody>\n",
       "</table>\n",
       "</div>"
      ],
      "text/plain": [
       "   customer_id  sum       income     expenses        delta\n",
       "0         6815  226   2706553.10  -3956007.97  -1249454.87\n",
       "1        22899  234   5818923.05  -6448719.64   -629796.59\n",
       "2        27914  111    409879.70  -3386906.52  -2977026.82\n",
       "3        28753  294  45593617.40 -72253691.83 -26660074.43\n",
       "4        31385  365    937669.86  -3431338.03  -2493668.17"
      ]
     },
     "execution_count": 530,
     "metadata": {},
     "output_type": "execute_result"
    }
   ],
   "source": [
    "count_df['delta'] = count_df['income'] + count_df['expenses']\n",
    "count_df.head()"
   ]
  },
  {
   "cell_type": "markdown",
   "metadata": {},
   "source": [
    "Добавим новые признаки в данные о транзакциях: день недели, в который произошла транзакция. Точный день недели мы не знаем, но определить одинаковые дни недели не представляет труда:"
   ]
  },
  {
   "cell_type": "code",
   "execution_count": 531,
   "metadata": {},
   "outputs": [
    {
     "data": {
      "text/html": [
       "<div>\n",
       "<style scoped>\n",
       "    .dataframe tbody tr th:only-of-type {\n",
       "        vertical-align: middle;\n",
       "    }\n",
       "\n",
       "    .dataframe tbody tr th {\n",
       "        vertical-align: top;\n",
       "    }\n",
       "\n",
       "    .dataframe thead th {\n",
       "        text-align: right;\n",
       "    }\n",
       "</style>\n",
       "<table border=\"1\" class=\"dataframe\">\n",
       "  <thead>\n",
       "    <tr style=\"text-align: right;\">\n",
       "      <th></th>\n",
       "      <th>customer_id</th>\n",
       "      <th>mcc_code</th>\n",
       "      <th>tr_type</th>\n",
       "      <th>amount</th>\n",
       "      <th>term_id</th>\n",
       "      <th>day</th>\n",
       "      <th>hour</th>\n",
       "      <th>min</th>\n",
       "      <th>sec</th>\n",
       "      <th>amount_norm</th>\n",
       "      <th>weekday</th>\n",
       "      <th>daypart</th>\n",
       "    </tr>\n",
       "  </thead>\n",
       "  <tbody>\n",
       "    <tr>\n",
       "      <th>0</th>\n",
       "      <td>39026145</td>\n",
       "      <td>4814</td>\n",
       "      <td>1030</td>\n",
       "      <td>-2245.92</td>\n",
       "      <td>NaN</td>\n",
       "      <td>0</td>\n",
       "      <td>10</td>\n",
       "      <td>23</td>\n",
       "      <td>26</td>\n",
       "      <td>-100.0</td>\n",
       "      <td>1</td>\n",
       "      <td>3</td>\n",
       "    </tr>\n",
       "    <tr>\n",
       "      <th>1</th>\n",
       "      <td>39026145</td>\n",
       "      <td>6011</td>\n",
       "      <td>7010</td>\n",
       "      <td>56147.89</td>\n",
       "      <td>NaN</td>\n",
       "      <td>1</td>\n",
       "      <td>10</td>\n",
       "      <td>19</td>\n",
       "      <td>29</td>\n",
       "      <td>2500.0</td>\n",
       "      <td>2</td>\n",
       "      <td>3</td>\n",
       "    </tr>\n",
       "    <tr>\n",
       "      <th>2</th>\n",
       "      <td>39026145</td>\n",
       "      <td>4829</td>\n",
       "      <td>2330</td>\n",
       "      <td>-56147.89</td>\n",
       "      <td>NaN</td>\n",
       "      <td>1</td>\n",
       "      <td>10</td>\n",
       "      <td>20</td>\n",
       "      <td>56</td>\n",
       "      <td>-2500.0</td>\n",
       "      <td>2</td>\n",
       "      <td>3</td>\n",
       "    </tr>\n",
       "    <tr>\n",
       "      <th>3</th>\n",
       "      <td>39026145</td>\n",
       "      <td>5499</td>\n",
       "      <td>1010</td>\n",
       "      <td>-1392.47</td>\n",
       "      <td>NaN</td>\n",
       "      <td>1</td>\n",
       "      <td>10</td>\n",
       "      <td>39</td>\n",
       "      <td>54</td>\n",
       "      <td>-62.0</td>\n",
       "      <td>2</td>\n",
       "      <td>3</td>\n",
       "    </tr>\n",
       "    <tr>\n",
       "      <th>4</th>\n",
       "      <td>39026145</td>\n",
       "      <td>5499</td>\n",
       "      <td>1010</td>\n",
       "      <td>-920.83</td>\n",
       "      <td>NaN</td>\n",
       "      <td>2</td>\n",
       "      <td>15</td>\n",
       "      <td>33</td>\n",
       "      <td>42</td>\n",
       "      <td>-41.0</td>\n",
       "      <td>3</td>\n",
       "      <td>4</td>\n",
       "    </tr>\n",
       "  </tbody>\n",
       "</table>\n",
       "</div>"
      ],
      "text/plain": [
       "   customer_id  mcc_code  tr_type    amount term_id  day  hour  min  sec  \\\n",
       "0     39026145      4814     1030  -2245.92     NaN    0    10   23   26   \n",
       "1     39026145      6011     7010  56147.89     NaN    1    10   19   29   \n",
       "2     39026145      4829     2330 -56147.89     NaN    1    10   20   56   \n",
       "3     39026145      5499     1010  -1392.47     NaN    1    10   39   54   \n",
       "4     39026145      5499     1010   -920.83     NaN    2    15   33   42   \n",
       "\n",
       "   amount_norm  weekday  daypart  \n",
       "0       -100.0        1        3  \n",
       "1       2500.0        2        3  \n",
       "2      -2500.0        2        3  \n",
       "3        -62.0        2        3  \n",
       "4        -41.0        3        4  "
      ]
     },
     "execution_count": 531,
     "metadata": {},
     "output_type": "execute_result"
    }
   ],
   "source": [
    "transactions['weekday'] = transactions['day'] % 7 + 1\n",
    "transactions.head()"
   ]
  },
  {
   "cell_type": "markdown",
   "metadata": {},
   "source": [
    "Теперь можем посчитать для каждого клиента количество его транзакций по дням недели:"
   ]
  },
  {
   "cell_type": "code",
   "execution_count": 532,
   "metadata": {},
   "outputs": [
    {
     "data": {
      "text/html": [
       "<div>\n",
       "<style scoped>\n",
       "    .dataframe tbody tr th:only-of-type {\n",
       "        vertical-align: middle;\n",
       "    }\n",
       "\n",
       "    .dataframe tbody tr th {\n",
       "        vertical-align: top;\n",
       "    }\n",
       "\n",
       "    .dataframe thead th {\n",
       "        text-align: right;\n",
       "    }\n",
       "</style>\n",
       "<table border=\"1\" class=\"dataframe\">\n",
       "  <thead>\n",
       "    <tr style=\"text-align: right;\">\n",
       "      <th></th>\n",
       "      <th>customer_id</th>\n",
       "      <th>wd_1_freq</th>\n",
       "      <th>wd_2_freq</th>\n",
       "      <th>wd_3_freq</th>\n",
       "      <th>wd_4_freq</th>\n",
       "      <th>wd_5_freq</th>\n",
       "      <th>wd_6_freq</th>\n",
       "      <th>wd_7_freq</th>\n",
       "    </tr>\n",
       "  </thead>\n",
       "  <tbody>\n",
       "    <tr>\n",
       "      <th>0</th>\n",
       "      <td>6815</td>\n",
       "      <td>27.0</td>\n",
       "      <td>30.0</td>\n",
       "      <td>27.0</td>\n",
       "      <td>37.0</td>\n",
       "      <td>41.0</td>\n",
       "      <td>33.0</td>\n",
       "      <td>31.0</td>\n",
       "    </tr>\n",
       "    <tr>\n",
       "      <th>1</th>\n",
       "      <td>22899</td>\n",
       "      <td>31.0</td>\n",
       "      <td>33.0</td>\n",
       "      <td>21.0</td>\n",
       "      <td>32.0</td>\n",
       "      <td>42.0</td>\n",
       "      <td>40.0</td>\n",
       "      <td>35.0</td>\n",
       "    </tr>\n",
       "    <tr>\n",
       "      <th>2</th>\n",
       "      <td>27914</td>\n",
       "      <td>15.0</td>\n",
       "      <td>29.0</td>\n",
       "      <td>20.0</td>\n",
       "      <td>10.0</td>\n",
       "      <td>15.0</td>\n",
       "      <td>3.0</td>\n",
       "      <td>19.0</td>\n",
       "    </tr>\n",
       "    <tr>\n",
       "      <th>3</th>\n",
       "      <td>28753</td>\n",
       "      <td>65.0</td>\n",
       "      <td>15.0</td>\n",
       "      <td>18.0</td>\n",
       "      <td>63.0</td>\n",
       "      <td>48.0</td>\n",
       "      <td>44.0</td>\n",
       "      <td>41.0</td>\n",
       "    </tr>\n",
       "    <tr>\n",
       "      <th>4</th>\n",
       "      <td>31385</td>\n",
       "      <td>56.0</td>\n",
       "      <td>44.0</td>\n",
       "      <td>53.0</td>\n",
       "      <td>45.0</td>\n",
       "      <td>53.0</td>\n",
       "      <td>61.0</td>\n",
       "      <td>53.0</td>\n",
       "    </tr>\n",
       "  </tbody>\n",
       "</table>\n",
       "</div>"
      ],
      "text/plain": [
       "   customer_id  wd_1_freq  wd_2_freq  wd_3_freq  wd_4_freq  wd_5_freq  \\\n",
       "0         6815       27.0       30.0       27.0       37.0       41.0   \n",
       "1        22899       31.0       33.0       21.0       32.0       42.0   \n",
       "2        27914       15.0       29.0       20.0       10.0       15.0   \n",
       "3        28753       65.0       15.0       18.0       63.0       48.0   \n",
       "4        31385       56.0       44.0       53.0       45.0       53.0   \n",
       "\n",
       "   wd_6_freq  wd_7_freq  \n",
       "0       33.0       31.0  \n",
       "1       40.0       35.0  \n",
       "2        3.0       19.0  \n",
       "3       44.0       41.0  \n",
       "4       61.0       53.0  "
      ]
     },
     "execution_count": 532,
     "metadata": {},
     "output_type": "execute_result"
    }
   ],
   "source": [
    "trans_pivot_weekday = pd.pivot_table(transactions, values='amount', \\\n",
    "                             columns=['weekday'], index=['customer_id'], aggfunc='count'). \\\n",
    "                             rename(columns={'count': 'freq'}).reset_index().fillna(0)\n",
    "clmns = trans_pivot_weekday.columns\n",
    "trans_pivot_weekday.columns = [clmns[0]] + ['wd_'+ str(col)+'_freq' for col in clmns[1:]]\n",
    "trans_pivot_weekday.head()"
   ]
  },
  {
   "cell_type": "markdown",
   "metadata": {},
   "source": [
    "Аналогичным образом определим время суток для каждой тразакции (разделим каждые сутки на 6 частей) и посчитаем для каждого клиента количество его транзакций в каждую из 6 частей суток:"
   ]
  },
  {
   "cell_type": "code",
   "execution_count": 533,
   "metadata": {},
   "outputs": [
    {
     "data": {
      "text/html": [
       "<div>\n",
       "<style scoped>\n",
       "    .dataframe tbody tr th:only-of-type {\n",
       "        vertical-align: middle;\n",
       "    }\n",
       "\n",
       "    .dataframe tbody tr th {\n",
       "        vertical-align: top;\n",
       "    }\n",
       "\n",
       "    .dataframe thead th {\n",
       "        text-align: right;\n",
       "    }\n",
       "</style>\n",
       "<table border=\"1\" class=\"dataframe\">\n",
       "  <thead>\n",
       "    <tr style=\"text-align: right;\">\n",
       "      <th></th>\n",
       "      <th>customer_id</th>\n",
       "      <th>mcc_code</th>\n",
       "      <th>tr_type</th>\n",
       "      <th>amount</th>\n",
       "      <th>term_id</th>\n",
       "      <th>day</th>\n",
       "      <th>hour</th>\n",
       "      <th>min</th>\n",
       "      <th>sec</th>\n",
       "      <th>amount_norm</th>\n",
       "      <th>weekday</th>\n",
       "      <th>daypart</th>\n",
       "    </tr>\n",
       "  </thead>\n",
       "  <tbody>\n",
       "    <tr>\n",
       "      <th>0</th>\n",
       "      <td>39026145</td>\n",
       "      <td>4814</td>\n",
       "      <td>1030</td>\n",
       "      <td>-2245.92</td>\n",
       "      <td>NaN</td>\n",
       "      <td>0</td>\n",
       "      <td>10</td>\n",
       "      <td>23</td>\n",
       "      <td>26</td>\n",
       "      <td>-100.0</td>\n",
       "      <td>1</td>\n",
       "      <td>3</td>\n",
       "    </tr>\n",
       "    <tr>\n",
       "      <th>1</th>\n",
       "      <td>39026145</td>\n",
       "      <td>6011</td>\n",
       "      <td>7010</td>\n",
       "      <td>56147.89</td>\n",
       "      <td>NaN</td>\n",
       "      <td>1</td>\n",
       "      <td>10</td>\n",
       "      <td>19</td>\n",
       "      <td>29</td>\n",
       "      <td>2500.0</td>\n",
       "      <td>2</td>\n",
       "      <td>3</td>\n",
       "    </tr>\n",
       "    <tr>\n",
       "      <th>2</th>\n",
       "      <td>39026145</td>\n",
       "      <td>4829</td>\n",
       "      <td>2330</td>\n",
       "      <td>-56147.89</td>\n",
       "      <td>NaN</td>\n",
       "      <td>1</td>\n",
       "      <td>10</td>\n",
       "      <td>20</td>\n",
       "      <td>56</td>\n",
       "      <td>-2500.0</td>\n",
       "      <td>2</td>\n",
       "      <td>3</td>\n",
       "    </tr>\n",
       "    <tr>\n",
       "      <th>3</th>\n",
       "      <td>39026145</td>\n",
       "      <td>5499</td>\n",
       "      <td>1010</td>\n",
       "      <td>-1392.47</td>\n",
       "      <td>NaN</td>\n",
       "      <td>1</td>\n",
       "      <td>10</td>\n",
       "      <td>39</td>\n",
       "      <td>54</td>\n",
       "      <td>-62.0</td>\n",
       "      <td>2</td>\n",
       "      <td>3</td>\n",
       "    </tr>\n",
       "    <tr>\n",
       "      <th>4</th>\n",
       "      <td>39026145</td>\n",
       "      <td>5499</td>\n",
       "      <td>1010</td>\n",
       "      <td>-920.83</td>\n",
       "      <td>NaN</td>\n",
       "      <td>2</td>\n",
       "      <td>15</td>\n",
       "      <td>33</td>\n",
       "      <td>42</td>\n",
       "      <td>-41.0</td>\n",
       "      <td>3</td>\n",
       "      <td>4</td>\n",
       "    </tr>\n",
       "  </tbody>\n",
       "</table>\n",
       "</div>"
      ],
      "text/plain": [
       "   customer_id  mcc_code  tr_type    amount term_id  day  hour  min  sec  \\\n",
       "0     39026145      4814     1030  -2245.92     NaN    0    10   23   26   \n",
       "1     39026145      6011     7010  56147.89     NaN    1    10   19   29   \n",
       "2     39026145      4829     2330 -56147.89     NaN    1    10   20   56   \n",
       "3     39026145      5499     1010  -1392.47     NaN    1    10   39   54   \n",
       "4     39026145      5499     1010   -920.83     NaN    2    15   33   42   \n",
       "\n",
       "   amount_norm  weekday  daypart  \n",
       "0       -100.0        1        3  \n",
       "1       2500.0        2        3  \n",
       "2      -2500.0        2        3  \n",
       "3        -62.0        2        3  \n",
       "4        -41.0        3        4  "
      ]
     },
     "execution_count": 533,
     "metadata": {},
     "output_type": "execute_result"
    }
   ],
   "source": [
    "transactions['daypart'] = transactions['hour'] // 4 + 1\n",
    "transactions.head()"
   ]
  },
  {
   "cell_type": "code",
   "execution_count": 534,
   "metadata": {},
   "outputs": [
    {
     "data": {
      "text/html": [
       "<div>\n",
       "<style scoped>\n",
       "    .dataframe tbody tr th:only-of-type {\n",
       "        vertical-align: middle;\n",
       "    }\n",
       "\n",
       "    .dataframe tbody tr th {\n",
       "        vertical-align: top;\n",
       "    }\n",
       "\n",
       "    .dataframe thead th {\n",
       "        text-align: right;\n",
       "    }\n",
       "</style>\n",
       "<table border=\"1\" class=\"dataframe\">\n",
       "  <thead>\n",
       "    <tr style=\"text-align: right;\">\n",
       "      <th></th>\n",
       "      <th>customer_id</th>\n",
       "      <th>daypart_1_freq</th>\n",
       "      <th>daypart_2_freq</th>\n",
       "      <th>daypart_3_freq</th>\n",
       "      <th>daypart_4_freq</th>\n",
       "      <th>daypart_5_freq</th>\n",
       "      <th>daypart_6_freq</th>\n",
       "    </tr>\n",
       "  </thead>\n",
       "  <tbody>\n",
       "    <tr>\n",
       "      <th>0</th>\n",
       "      <td>6815</td>\n",
       "      <td>2.0</td>\n",
       "      <td>3.0</td>\n",
       "      <td>95.0</td>\n",
       "      <td>86.0</td>\n",
       "      <td>31.0</td>\n",
       "      <td>9.0</td>\n",
       "    </tr>\n",
       "    <tr>\n",
       "      <th>1</th>\n",
       "      <td>22899</td>\n",
       "      <td>17.0</td>\n",
       "      <td>4.0</td>\n",
       "      <td>81.0</td>\n",
       "      <td>61.0</td>\n",
       "      <td>51.0</td>\n",
       "      <td>20.0</td>\n",
       "    </tr>\n",
       "    <tr>\n",
       "      <th>2</th>\n",
       "      <td>27914</td>\n",
       "      <td>3.0</td>\n",
       "      <td>11.0</td>\n",
       "      <td>45.0</td>\n",
       "      <td>28.0</td>\n",
       "      <td>24.0</td>\n",
       "      <td>0.0</td>\n",
       "    </tr>\n",
       "    <tr>\n",
       "      <th>3</th>\n",
       "      <td>28753</td>\n",
       "      <td>84.0</td>\n",
       "      <td>79.0</td>\n",
       "      <td>97.0</td>\n",
       "      <td>30.0</td>\n",
       "      <td>3.0</td>\n",
       "      <td>1.0</td>\n",
       "    </tr>\n",
       "    <tr>\n",
       "      <th>4</th>\n",
       "      <td>31385</td>\n",
       "      <td>11.0</td>\n",
       "      <td>16.0</td>\n",
       "      <td>90.0</td>\n",
       "      <td>85.0</td>\n",
       "      <td>76.0</td>\n",
       "      <td>87.0</td>\n",
       "    </tr>\n",
       "  </tbody>\n",
       "</table>\n",
       "</div>"
      ],
      "text/plain": [
       "   customer_id  daypart_1_freq  daypart_2_freq  daypart_3_freq  \\\n",
       "0         6815             2.0             3.0            95.0   \n",
       "1        22899            17.0             4.0            81.0   \n",
       "2        27914             3.0            11.0            45.0   \n",
       "3        28753            84.0            79.0            97.0   \n",
       "4        31385            11.0            16.0            90.0   \n",
       "\n",
       "   daypart_4_freq  daypart_5_freq  daypart_6_freq  \n",
       "0            86.0            31.0             9.0  \n",
       "1            61.0            51.0            20.0  \n",
       "2            28.0            24.0             0.0  \n",
       "3            30.0             3.0             1.0  \n",
       "4            85.0            76.0            87.0  "
      ]
     },
     "execution_count": 534,
     "metadata": {},
     "output_type": "execute_result"
    }
   ],
   "source": [
    "trans_pivot_daypart = pd.pivot_table(transactions, values='amount', \\\n",
    "                             columns=['daypart'], index=['customer_id'], aggfunc='count'). \\\n",
    "                             rename(columns={'count': 'freq'}).reset_index().fillna(0)\n",
    "clmns = trans_pivot_daypart.columns\n",
    "trans_pivot_daypart.columns = [clmns[0]] + ['daypart_'+ str(col)+'_freq' for col in clmns[1:]]\n",
    "trans_pivot_daypart.head()"
   ]
  },
  {
   "cell_type": "markdown",
   "metadata": {},
   "source": [
    "Посчитаем для каждого клиента количество транзакций и их среднюю сумму: по типам транзакций и по различным MCC-кодам:"
   ]
  },
  {
   "cell_type": "code",
   "execution_count": 535,
   "metadata": {},
   "outputs": [],
   "source": [
    "trans_pivot_tr_type = pd.pivot_table(transactions, values='amount', \\\n",
    "                             columns=['tr_type'], index=['customer_id'], aggfunc=[np.mean, 'count']). \\\n",
    "                             rename(columns={'count': 'freq'}).reset_index().fillna(0)\n",
    "\n",
    "trans_pivot_mcc = pd.pivot_table(transactions, values='amount', \\\n",
    "                             columns=['mcc_code'], index=['customer_id'], aggfunc=[np.mean, 'count']). \\\n",
    "                             rename(columns={'count': 'freq'}).reset_index().fillna(0)"
   ]
  },
  {
   "cell_type": "code",
   "execution_count": 536,
   "metadata": {},
   "outputs": [],
   "source": [
    "trans_pivot_tr_type.columns = ['tr_' + x + '_' + str(y) for (x, y) in trans_pivot_tr_type.columns]\n",
    "trans_pivot_mcc.columns = ['mcc_' + x + '_' + str(y) for (x, y) in trans_pivot_mcc.columns]\n",
    "\n",
    "trans_pivot_tr_type.rename(columns={'tr_customer_id_' : 'customer_id'}, inplace=True)\n",
    "trans_pivot_mcc.rename(columns={'mcc_customer_id_' : 'customer_id'}, inplace=True)"
   ]
  },
  {
   "cell_type": "code",
   "execution_count": 537,
   "metadata": {},
   "outputs": [
    {
     "data": {
      "text/html": [
       "<div>\n",
       "<style scoped>\n",
       "    .dataframe tbody tr th:only-of-type {\n",
       "        vertical-align: middle;\n",
       "    }\n",
       "\n",
       "    .dataframe tbody tr th {\n",
       "        vertical-align: top;\n",
       "    }\n",
       "\n",
       "    .dataframe thead th {\n",
       "        text-align: right;\n",
       "    }\n",
       "</style>\n",
       "<table border=\"1\" class=\"dataframe\">\n",
       "  <thead>\n",
       "    <tr style=\"text-align: right;\">\n",
       "      <th></th>\n",
       "      <th>customer_id</th>\n",
       "      <th>tr_mean_1000</th>\n",
       "      <th>tr_mean_1010</th>\n",
       "      <th>tr_mean_1030</th>\n",
       "      <th>tr_mean_1100</th>\n",
       "      <th>tr_mean_1110</th>\n",
       "      <th>tr_mean_1200</th>\n",
       "      <th>tr_mean_1210</th>\n",
       "      <th>tr_mean_1310</th>\n",
       "      <th>tr_mean_1410</th>\n",
       "      <th>...</th>\n",
       "      <th>tr_freq_7040</th>\n",
       "      <th>tr_freq_7041</th>\n",
       "      <th>tr_freq_7044</th>\n",
       "      <th>tr_freq_7070</th>\n",
       "      <th>tr_freq_7071</th>\n",
       "      <th>tr_freq_7074</th>\n",
       "      <th>tr_freq_7075</th>\n",
       "      <th>tr_freq_8100</th>\n",
       "      <th>tr_freq_8145</th>\n",
       "      <th>tr_freq_8146</th>\n",
       "    </tr>\n",
       "  </thead>\n",
       "  <tbody>\n",
       "    <tr>\n",
       "      <th>0</th>\n",
       "      <td>6815</td>\n",
       "      <td>0.0</td>\n",
       "      <td>-7627.253810</td>\n",
       "      <td>-2770.465889</td>\n",
       "      <td>0.000000e+00</td>\n",
       "      <td>-9703.427778</td>\n",
       "      <td>0.00</td>\n",
       "      <td>0.0</td>\n",
       "      <td>0.0</td>\n",
       "      <td>0.0</td>\n",
       "      <td>...</td>\n",
       "      <td>0.0</td>\n",
       "      <td>0.0</td>\n",
       "      <td>0.0</td>\n",
       "      <td>0.0</td>\n",
       "      <td>0.0</td>\n",
       "      <td>0.0</td>\n",
       "      <td>0.0</td>\n",
       "      <td>0.0</td>\n",
       "      <td>0.0</td>\n",
       "      <td>0.0</td>\n",
       "    </tr>\n",
       "    <tr>\n",
       "      <th>1</th>\n",
       "      <td>22899</td>\n",
       "      <td>0.0</td>\n",
       "      <td>-6237.096667</td>\n",
       "      <td>-3737.740213</td>\n",
       "      <td>0.000000e+00</td>\n",
       "      <td>-10555.671852</td>\n",
       "      <td>-763.61</td>\n",
       "      <td>0.0</td>\n",
       "      <td>0.0</td>\n",
       "      <td>0.0</td>\n",
       "      <td>...</td>\n",
       "      <td>0.0</td>\n",
       "      <td>0.0</td>\n",
       "      <td>0.0</td>\n",
       "      <td>9.0</td>\n",
       "      <td>3.0</td>\n",
       "      <td>0.0</td>\n",
       "      <td>1.0</td>\n",
       "      <td>0.0</td>\n",
       "      <td>0.0</td>\n",
       "      <td>0.0</td>\n",
       "    </tr>\n",
       "    <tr>\n",
       "      <th>2</th>\n",
       "      <td>27914</td>\n",
       "      <td>0.0</td>\n",
       "      <td>0.000000</td>\n",
       "      <td>-2896.459828</td>\n",
       "      <td>0.000000e+00</td>\n",
       "      <td>-6731.460000</td>\n",
       "      <td>-22158.09</td>\n",
       "      <td>0.0</td>\n",
       "      <td>0.0</td>\n",
       "      <td>0.0</td>\n",
       "      <td>...</td>\n",
       "      <td>0.0</td>\n",
       "      <td>0.0</td>\n",
       "      <td>0.0</td>\n",
       "      <td>0.0</td>\n",
       "      <td>0.0</td>\n",
       "      <td>0.0</td>\n",
       "      <td>0.0</td>\n",
       "      <td>0.0</td>\n",
       "      <td>0.0</td>\n",
       "      <td>0.0</td>\n",
       "    </tr>\n",
       "    <tr>\n",
       "      <th>3</th>\n",
       "      <td>28753</td>\n",
       "      <td>0.0</td>\n",
       "      <td>-129090.968764</td>\n",
       "      <td>-6647.909200</td>\n",
       "      <td>-1.937125e+06</td>\n",
       "      <td>-66132.496154</td>\n",
       "      <td>0.00</td>\n",
       "      <td>0.0</td>\n",
       "      <td>0.0</td>\n",
       "      <td>0.0</td>\n",
       "      <td>...</td>\n",
       "      <td>1.0</td>\n",
       "      <td>0.0</td>\n",
       "      <td>0.0</td>\n",
       "      <td>14.0</td>\n",
       "      <td>0.0</td>\n",
       "      <td>0.0</td>\n",
       "      <td>0.0</td>\n",
       "      <td>0.0</td>\n",
       "      <td>0.0</td>\n",
       "      <td>0.0</td>\n",
       "    </tr>\n",
       "    <tr>\n",
       "      <th>4</th>\n",
       "      <td>31385</td>\n",
       "      <td>0.0</td>\n",
       "      <td>-6110.220533</td>\n",
       "      <td>-2921.307760</td>\n",
       "      <td>0.000000e+00</td>\n",
       "      <td>-11946.789467</td>\n",
       "      <td>0.00</td>\n",
       "      <td>0.0</td>\n",
       "      <td>0.0</td>\n",
       "      <td>0.0</td>\n",
       "      <td>...</td>\n",
       "      <td>0.0</td>\n",
       "      <td>0.0</td>\n",
       "      <td>0.0</td>\n",
       "      <td>1.0</td>\n",
       "      <td>0.0</td>\n",
       "      <td>0.0</td>\n",
       "      <td>0.0</td>\n",
       "      <td>0.0</td>\n",
       "      <td>0.0</td>\n",
       "      <td>0.0</td>\n",
       "    </tr>\n",
       "  </tbody>\n",
       "</table>\n",
       "<p>5 rows × 155 columns</p>\n",
       "</div>"
      ],
      "text/plain": [
       "   customer_id  tr_mean_1000   tr_mean_1010  tr_mean_1030  tr_mean_1100  \\\n",
       "0         6815           0.0   -7627.253810  -2770.465889  0.000000e+00   \n",
       "1        22899           0.0   -6237.096667  -3737.740213  0.000000e+00   \n",
       "2        27914           0.0       0.000000  -2896.459828  0.000000e+00   \n",
       "3        28753           0.0 -129090.968764  -6647.909200 -1.937125e+06   \n",
       "4        31385           0.0   -6110.220533  -2921.307760  0.000000e+00   \n",
       "\n",
       "   tr_mean_1110  tr_mean_1200  tr_mean_1210  tr_mean_1310  tr_mean_1410  ...  \\\n",
       "0  -9703.427778          0.00           0.0           0.0           0.0  ...   \n",
       "1 -10555.671852       -763.61           0.0           0.0           0.0  ...   \n",
       "2  -6731.460000     -22158.09           0.0           0.0           0.0  ...   \n",
       "3 -66132.496154          0.00           0.0           0.0           0.0  ...   \n",
       "4 -11946.789467          0.00           0.0           0.0           0.0  ...   \n",
       "\n",
       "   tr_freq_7040  tr_freq_7041  tr_freq_7044  tr_freq_7070  tr_freq_7071  \\\n",
       "0           0.0           0.0           0.0           0.0           0.0   \n",
       "1           0.0           0.0           0.0           9.0           3.0   \n",
       "2           0.0           0.0           0.0           0.0           0.0   \n",
       "3           1.0           0.0           0.0          14.0           0.0   \n",
       "4           0.0           0.0           0.0           1.0           0.0   \n",
       "\n",
       "   tr_freq_7074  tr_freq_7075  tr_freq_8100  tr_freq_8145  tr_freq_8146  \n",
       "0           0.0           0.0           0.0           0.0           0.0  \n",
       "1           0.0           1.0           0.0           0.0           0.0  \n",
       "2           0.0           0.0           0.0           0.0           0.0  \n",
       "3           0.0           0.0           0.0           0.0           0.0  \n",
       "4           0.0           0.0           0.0           0.0           0.0  \n",
       "\n",
       "[5 rows x 155 columns]"
      ]
     },
     "execution_count": 537,
     "metadata": {},
     "output_type": "execute_result"
    }
   ],
   "source": [
    "# Количество и средняя сумма транзакции по типам\n",
    "trans_pivot_tr_type.head()"
   ]
  },
  {
   "cell_type": "code",
   "execution_count": 538,
   "metadata": {},
   "outputs": [
    {
     "data": {
      "text/html": [
       "<div>\n",
       "<style scoped>\n",
       "    .dataframe tbody tr th:only-of-type {\n",
       "        vertical-align: middle;\n",
       "    }\n",
       "\n",
       "    .dataframe tbody tr th {\n",
       "        vertical-align: top;\n",
       "    }\n",
       "\n",
       "    .dataframe thead th {\n",
       "        text-align: right;\n",
       "    }\n",
       "</style>\n",
       "<table border=\"1\" class=\"dataframe\">\n",
       "  <thead>\n",
       "    <tr style=\"text-align: right;\">\n",
       "      <th></th>\n",
       "      <th>customer_id</th>\n",
       "      <th>mcc_mean_742</th>\n",
       "      <th>mcc_mean_1711</th>\n",
       "      <th>mcc_mean_1731</th>\n",
       "      <th>mcc_mean_1799</th>\n",
       "      <th>mcc_mean_2741</th>\n",
       "      <th>mcc_mean_3000</th>\n",
       "      <th>mcc_mean_3351</th>\n",
       "      <th>mcc_mean_3501</th>\n",
       "      <th>mcc_mean_4111</th>\n",
       "      <th>...</th>\n",
       "      <th>mcc_freq_8299</th>\n",
       "      <th>mcc_freq_8398</th>\n",
       "      <th>mcc_freq_8641</th>\n",
       "      <th>mcc_freq_8699</th>\n",
       "      <th>mcc_freq_8999</th>\n",
       "      <th>mcc_freq_9211</th>\n",
       "      <th>mcc_freq_9222</th>\n",
       "      <th>mcc_freq_9311</th>\n",
       "      <th>mcc_freq_9399</th>\n",
       "      <th>mcc_freq_9402</th>\n",
       "    </tr>\n",
       "  </thead>\n",
       "  <tbody>\n",
       "    <tr>\n",
       "      <th>0</th>\n",
       "      <td>6815</td>\n",
       "      <td>0.0</td>\n",
       "      <td>0.0</td>\n",
       "      <td>0.0</td>\n",
       "      <td>0.0</td>\n",
       "      <td>0.0</td>\n",
       "      <td>0.0</td>\n",
       "      <td>0.0</td>\n",
       "      <td>0.0</td>\n",
       "      <td>0.0</td>\n",
       "      <td>...</td>\n",
       "      <td>0.0</td>\n",
       "      <td>0.0</td>\n",
       "      <td>0.0</td>\n",
       "      <td>0.0</td>\n",
       "      <td>0.0</td>\n",
       "      <td>0.0</td>\n",
       "      <td>0.0</td>\n",
       "      <td>0.0</td>\n",
       "      <td>0.0</td>\n",
       "      <td>0.0</td>\n",
       "    </tr>\n",
       "    <tr>\n",
       "      <th>1</th>\n",
       "      <td>22899</td>\n",
       "      <td>0.0</td>\n",
       "      <td>0.0</td>\n",
       "      <td>0.0</td>\n",
       "      <td>0.0</td>\n",
       "      <td>0.0</td>\n",
       "      <td>0.0</td>\n",
       "      <td>0.0</td>\n",
       "      <td>0.0</td>\n",
       "      <td>0.0</td>\n",
       "      <td>...</td>\n",
       "      <td>0.0</td>\n",
       "      <td>0.0</td>\n",
       "      <td>0.0</td>\n",
       "      <td>0.0</td>\n",
       "      <td>0.0</td>\n",
       "      <td>0.0</td>\n",
       "      <td>0.0</td>\n",
       "      <td>0.0</td>\n",
       "      <td>0.0</td>\n",
       "      <td>0.0</td>\n",
       "    </tr>\n",
       "    <tr>\n",
       "      <th>2</th>\n",
       "      <td>27914</td>\n",
       "      <td>0.0</td>\n",
       "      <td>0.0</td>\n",
       "      <td>0.0</td>\n",
       "      <td>0.0</td>\n",
       "      <td>0.0</td>\n",
       "      <td>0.0</td>\n",
       "      <td>0.0</td>\n",
       "      <td>0.0</td>\n",
       "      <td>0.0</td>\n",
       "      <td>...</td>\n",
       "      <td>0.0</td>\n",
       "      <td>0.0</td>\n",
       "      <td>0.0</td>\n",
       "      <td>0.0</td>\n",
       "      <td>0.0</td>\n",
       "      <td>0.0</td>\n",
       "      <td>0.0</td>\n",
       "      <td>0.0</td>\n",
       "      <td>0.0</td>\n",
       "      <td>0.0</td>\n",
       "    </tr>\n",
       "    <tr>\n",
       "      <th>3</th>\n",
       "      <td>28753</td>\n",
       "      <td>0.0</td>\n",
       "      <td>0.0</td>\n",
       "      <td>0.0</td>\n",
       "      <td>0.0</td>\n",
       "      <td>0.0</td>\n",
       "      <td>0.0</td>\n",
       "      <td>0.0</td>\n",
       "      <td>0.0</td>\n",
       "      <td>0.0</td>\n",
       "      <td>...</td>\n",
       "      <td>0.0</td>\n",
       "      <td>0.0</td>\n",
       "      <td>0.0</td>\n",
       "      <td>0.0</td>\n",
       "      <td>2.0</td>\n",
       "      <td>0.0</td>\n",
       "      <td>0.0</td>\n",
       "      <td>0.0</td>\n",
       "      <td>0.0</td>\n",
       "      <td>0.0</td>\n",
       "    </tr>\n",
       "    <tr>\n",
       "      <th>4</th>\n",
       "      <td>31385</td>\n",
       "      <td>0.0</td>\n",
       "      <td>0.0</td>\n",
       "      <td>0.0</td>\n",
       "      <td>0.0</td>\n",
       "      <td>0.0</td>\n",
       "      <td>0.0</td>\n",
       "      <td>0.0</td>\n",
       "      <td>0.0</td>\n",
       "      <td>0.0</td>\n",
       "      <td>...</td>\n",
       "      <td>0.0</td>\n",
       "      <td>0.0</td>\n",
       "      <td>0.0</td>\n",
       "      <td>0.0</td>\n",
       "      <td>0.0</td>\n",
       "      <td>0.0</td>\n",
       "      <td>0.0</td>\n",
       "      <td>0.0</td>\n",
       "      <td>0.0</td>\n",
       "      <td>0.0</td>\n",
       "    </tr>\n",
       "  </tbody>\n",
       "</table>\n",
       "<p>5 rows × 369 columns</p>\n",
       "</div>"
      ],
      "text/plain": [
       "   customer_id  mcc_mean_742  mcc_mean_1711  mcc_mean_1731  mcc_mean_1799  \\\n",
       "0         6815           0.0            0.0            0.0            0.0   \n",
       "1        22899           0.0            0.0            0.0            0.0   \n",
       "2        27914           0.0            0.0            0.0            0.0   \n",
       "3        28753           0.0            0.0            0.0            0.0   \n",
       "4        31385           0.0            0.0            0.0            0.0   \n",
       "\n",
       "   mcc_mean_2741  mcc_mean_3000  mcc_mean_3351  mcc_mean_3501  mcc_mean_4111  \\\n",
       "0            0.0            0.0            0.0            0.0            0.0   \n",
       "1            0.0            0.0            0.0            0.0            0.0   \n",
       "2            0.0            0.0            0.0            0.0            0.0   \n",
       "3            0.0            0.0            0.0            0.0            0.0   \n",
       "4            0.0            0.0            0.0            0.0            0.0   \n",
       "\n",
       "   ...  mcc_freq_8299  mcc_freq_8398  mcc_freq_8641  mcc_freq_8699  \\\n",
       "0  ...            0.0            0.0            0.0            0.0   \n",
       "1  ...            0.0            0.0            0.0            0.0   \n",
       "2  ...            0.0            0.0            0.0            0.0   \n",
       "3  ...            0.0            0.0            0.0            0.0   \n",
       "4  ...            0.0            0.0            0.0            0.0   \n",
       "\n",
       "   mcc_freq_8999  mcc_freq_9211  mcc_freq_9222  mcc_freq_9311  mcc_freq_9399  \\\n",
       "0            0.0            0.0            0.0            0.0            0.0   \n",
       "1            0.0            0.0            0.0            0.0            0.0   \n",
       "2            0.0            0.0            0.0            0.0            0.0   \n",
       "3            2.0            0.0            0.0            0.0            0.0   \n",
       "4            0.0            0.0            0.0            0.0            0.0   \n",
       "\n",
       "   mcc_freq_9402  \n",
       "0            0.0  \n",
       "1            0.0  \n",
       "2            0.0  \n",
       "3            0.0  \n",
       "4            0.0  \n",
       "\n",
       "[5 rows x 369 columns]"
      ]
     },
     "execution_count": 538,
     "metadata": {},
     "output_type": "execute_result"
    }
   ],
   "source": [
    "# Количество и средняя сумма транзакции по MCC-кодам\n",
    "trans_pivot_mcc.head()"
   ]
  },
  {
   "cell_type": "markdown",
   "metadata": {},
   "source": [
    "Для перехода от абсолютного количества транзакций по различным типам к их относительному количеству вычислим общее число транзакций для каждого клиента:"
   ]
  },
  {
   "cell_type": "code",
   "execution_count": 539,
   "metadata": {},
   "outputs": [
    {
     "data": {
      "text/html": [
       "<div>\n",
       "<style scoped>\n",
       "    .dataframe tbody tr th:only-of-type {\n",
       "        vertical-align: middle;\n",
       "    }\n",
       "\n",
       "    .dataframe tbody tr th {\n",
       "        vertical-align: top;\n",
       "    }\n",
       "\n",
       "    .dataframe thead tr th {\n",
       "        text-align: left;\n",
       "    }\n",
       "</style>\n",
       "<table border=\"1\" class=\"dataframe\">\n",
       "  <thead>\n",
       "    <tr>\n",
       "      <th></th>\n",
       "      <th>customer_id</th>\n",
       "      <th colspan=\"2\" halign=\"left\">day</th>\n",
       "      <th>days_count</th>\n",
       "    </tr>\n",
       "    <tr>\n",
       "      <th></th>\n",
       "      <th></th>\n",
       "      <th>min</th>\n",
       "      <th>max</th>\n",
       "      <th></th>\n",
       "    </tr>\n",
       "  </thead>\n",
       "  <tbody>\n",
       "    <tr>\n",
       "      <th>0</th>\n",
       "      <td>6815</td>\n",
       "      <td>10</td>\n",
       "      <td>454</td>\n",
       "      <td>445</td>\n",
       "    </tr>\n",
       "    <tr>\n",
       "      <th>1</th>\n",
       "      <td>22899</td>\n",
       "      <td>1</td>\n",
       "      <td>456</td>\n",
       "      <td>456</td>\n",
       "    </tr>\n",
       "    <tr>\n",
       "      <th>2</th>\n",
       "      <td>27914</td>\n",
       "      <td>13</td>\n",
       "      <td>451</td>\n",
       "      <td>439</td>\n",
       "    </tr>\n",
       "    <tr>\n",
       "      <th>3</th>\n",
       "      <td>28753</td>\n",
       "      <td>0</td>\n",
       "      <td>452</td>\n",
       "      <td>453</td>\n",
       "    </tr>\n",
       "    <tr>\n",
       "      <th>4</th>\n",
       "      <td>31385</td>\n",
       "      <td>0</td>\n",
       "      <td>436</td>\n",
       "      <td>437</td>\n",
       "    </tr>\n",
       "  </tbody>\n",
       "</table>\n",
       "</div>"
      ],
      "text/plain": [
       "  customer_id day      days_count\n",
       "              min  max           \n",
       "0        6815  10  454        445\n",
       "1       22899   1  456        456\n",
       "2       27914  13  451        439\n",
       "3       28753   0  452        453\n",
       "4       31385   0  436        437"
      ]
     },
     "execution_count": 539,
     "metadata": {},
     "output_type": "execute_result"
    }
   ],
   "source": [
    "# Первый и последний день, в котором есть транзакция у клиента\n",
    "day_df = transactions.groupby('customer_id', as_index=False).agg({'day': ['min', 'max']})\n",
    "\n",
    "# За какой период в днях есть статистика по данному клиенту\n",
    "day_df['days_count'] = day_df[('day', 'max')] - day_df[('day', 'min')] + 1\n",
    "day_df.head()"
   ]
  },
  {
   "cell_type": "code",
   "execution_count": 540,
   "metadata": {},
   "outputs": [
    {
     "name": "stderr",
     "output_type": "stream",
     "text": [
      "C:\\Div\\Anaconda3\\lib\\site-packages\\pandas\\core\\reshape\\merge.py:643: UserWarning: merging between different levels can give an unintended result (1 levels on the left,2 on the right)\n",
      "  warnings.warn(msg, UserWarning)\n"
     ]
    },
    {
     "data": {
      "text/html": [
       "<div>\n",
       "<style scoped>\n",
       "    .dataframe tbody tr th:only-of-type {\n",
       "        vertical-align: middle;\n",
       "    }\n",
       "\n",
       "    .dataframe tbody tr th {\n",
       "        vertical-align: top;\n",
       "    }\n",
       "\n",
       "    .dataframe thead th {\n",
       "        text-align: right;\n",
       "    }\n",
       "</style>\n",
       "<table border=\"1\" class=\"dataframe\">\n",
       "  <thead>\n",
       "    <tr style=\"text-align: right;\">\n",
       "      <th></th>\n",
       "      <th>customer_id</th>\n",
       "      <th>sum</th>\n",
       "      <th>income</th>\n",
       "      <th>expenses</th>\n",
       "      <th>delta</th>\n",
       "      <th>days_count</th>\n",
       "    </tr>\n",
       "  </thead>\n",
       "  <tbody>\n",
       "    <tr>\n",
       "      <th>0</th>\n",
       "      <td>6815</td>\n",
       "      <td>226</td>\n",
       "      <td>2706553.10</td>\n",
       "      <td>-3956007.97</td>\n",
       "      <td>-1249454.87</td>\n",
       "      <td>445</td>\n",
       "    </tr>\n",
       "    <tr>\n",
       "      <th>1</th>\n",
       "      <td>22899</td>\n",
       "      <td>234</td>\n",
       "      <td>5818923.05</td>\n",
       "      <td>-6448719.64</td>\n",
       "      <td>-629796.59</td>\n",
       "      <td>456</td>\n",
       "    </tr>\n",
       "    <tr>\n",
       "      <th>2</th>\n",
       "      <td>27914</td>\n",
       "      <td>111</td>\n",
       "      <td>409879.70</td>\n",
       "      <td>-3386906.52</td>\n",
       "      <td>-2977026.82</td>\n",
       "      <td>439</td>\n",
       "    </tr>\n",
       "    <tr>\n",
       "      <th>3</th>\n",
       "      <td>28753</td>\n",
       "      <td>294</td>\n",
       "      <td>45593617.40</td>\n",
       "      <td>-72253691.83</td>\n",
       "      <td>-26660074.43</td>\n",
       "      <td>453</td>\n",
       "    </tr>\n",
       "    <tr>\n",
       "      <th>4</th>\n",
       "      <td>31385</td>\n",
       "      <td>365</td>\n",
       "      <td>937669.86</td>\n",
       "      <td>-3431338.03</td>\n",
       "      <td>-2493668.17</td>\n",
       "      <td>437</td>\n",
       "    </tr>\n",
       "  </tbody>\n",
       "</table>\n",
       "</div>"
      ],
      "text/plain": [
       "   customer_id  sum       income     expenses        delta  days_count\n",
       "0         6815  226   2706553.10  -3956007.97  -1249454.87         445\n",
       "1        22899  234   5818923.05  -6448719.64   -629796.59         456\n",
       "2        27914  111    409879.70  -3386906.52  -2977026.82         439\n",
       "3        28753  294  45593617.40 -72253691.83 -26660074.43         453\n",
       "4        31385  365    937669.86  -3431338.03  -2493668.17         437"
      ]
     },
     "execution_count": 540,
     "metadata": {},
     "output_type": "execute_result"
    }
   ],
   "source": [
    "# Добавим кол-во дней, за которые были транзакции у клиента, к формируемому датасету\n",
    "count_df = count_df.merge(day_df.iloc[:, [0,3]], on='customer_id', how='outer')\n",
    "count_df.columns = ['customer_id', 'sum', 'income', 'expenses', 'delta', 'days_count'] #'ratio',\n",
    "count_df.head()"
   ]
  },
  {
   "cell_type": "markdown",
   "metadata": {},
   "source": [
    "Добавим новый признак: среднее количество транзакций клиента за день, а также перейдем от абсолютных величин доходов / расходов к их средним значениям за день:"
   ]
  },
  {
   "cell_type": "code",
   "execution_count": 541,
   "metadata": {},
   "outputs": [
    {
     "data": {
      "text/html": [
       "<div>\n",
       "<style scoped>\n",
       "    .dataframe tbody tr th:only-of-type {\n",
       "        vertical-align: middle;\n",
       "    }\n",
       "\n",
       "    .dataframe tbody tr th {\n",
       "        vertical-align: top;\n",
       "    }\n",
       "\n",
       "    .dataframe thead th {\n",
       "        text-align: right;\n",
       "    }\n",
       "</style>\n",
       "<table border=\"1\" class=\"dataframe\">\n",
       "  <thead>\n",
       "    <tr style=\"text-align: right;\">\n",
       "      <th></th>\n",
       "      <th>customer_id</th>\n",
       "      <th>sum</th>\n",
       "      <th>expenses</th>\n",
       "      <th>delta</th>\n",
       "      <th>trans_freq</th>\n",
       "    </tr>\n",
       "  </thead>\n",
       "  <tbody>\n",
       "    <tr>\n",
       "      <th>0</th>\n",
       "      <td>6815</td>\n",
       "      <td>226</td>\n",
       "      <td>-8889.905551</td>\n",
       "      <td>-1249454.87</td>\n",
       "      <td>0.507865</td>\n",
       "    </tr>\n",
       "    <tr>\n",
       "      <th>1</th>\n",
       "      <td>22899</td>\n",
       "      <td>234</td>\n",
       "      <td>-14141.929035</td>\n",
       "      <td>-629796.59</td>\n",
       "      <td>0.513158</td>\n",
       "    </tr>\n",
       "    <tr>\n",
       "      <th>2</th>\n",
       "      <td>27914</td>\n",
       "      <td>111</td>\n",
       "      <td>-7715.049021</td>\n",
       "      <td>-2977026.82</td>\n",
       "      <td>0.252847</td>\n",
       "    </tr>\n",
       "    <tr>\n",
       "      <th>3</th>\n",
       "      <td>28753</td>\n",
       "      <td>294</td>\n",
       "      <td>-159500.423466</td>\n",
       "      <td>-26660074.43</td>\n",
       "      <td>0.649007</td>\n",
       "    </tr>\n",
       "    <tr>\n",
       "      <th>4</th>\n",
       "      <td>31385</td>\n",
       "      <td>365</td>\n",
       "      <td>-7852.032105</td>\n",
       "      <td>-2493668.17</td>\n",
       "      <td>0.835240</td>\n",
       "    </tr>\n",
       "  </tbody>\n",
       "</table>\n",
       "</div>"
      ],
      "text/plain": [
       "   customer_id  sum       expenses        delta  trans_freq\n",
       "0         6815  226   -8889.905551  -1249454.87    0.507865\n",
       "1        22899  234  -14141.929035   -629796.59    0.513158\n",
       "2        27914  111   -7715.049021  -2977026.82    0.252847\n",
       "3        28753  294 -159500.423466 -26660074.43    0.649007\n",
       "4        31385  365   -7852.032105  -2493668.17    0.835240"
      ]
     },
     "execution_count": 541,
     "metadata": {},
     "output_type": "execute_result"
    }
   ],
   "source": [
    "count_df['trans_freq'] = count_df['sum'] / count_df['days_count']\n",
    "count_df['expenses'] = count_df['expenses'] / count_df['days_count']\n",
    "# Данный признак не оказал позитивного влияния на качество модели\n",
    "count_df['income'] = count_df['income'] / count_df['days_count']\n",
    "count_df.drop(['days_count', 'income'], axis=1, inplace=True)\n",
    "count_df.head()"
   ]
  },
  {
   "cell_type": "markdown",
   "metadata": {},
   "source": [
    "Объединим все данные в один датасет:"
   ]
  },
  {
   "cell_type": "code",
   "execution_count": 542,
   "metadata": {},
   "outputs": [],
   "source": [
    "data_all = gender.merge(trans_pivot_tr_type, how='outer', on='customer_id') \\\n",
    "            .merge(trans_pivot_mcc, how='outer', on='customer_id').merge(count_df, how='outer', on='customer_id') \\\n",
    "            .merge(trans_pivot_daypart, on='customer_id', how='outer') \\\n",
    "# Информация о статистике транзакций клиента по дням недели не оказала позитивного влияния на итоговую модель\n",
    "            #.merge(trans_pivot_weekday, on='customer_id', how='outer')"
   ]
  },
  {
   "cell_type": "code",
   "execution_count": 543,
   "metadata": {},
   "outputs": [
    {
     "data": {
      "text/html": [
       "<div>\n",
       "<style scoped>\n",
       "    .dataframe tbody tr th:only-of-type {\n",
       "        vertical-align: middle;\n",
       "    }\n",
       "\n",
       "    .dataframe tbody tr th {\n",
       "        vertical-align: top;\n",
       "    }\n",
       "\n",
       "    .dataframe thead th {\n",
       "        text-align: right;\n",
       "    }\n",
       "</style>\n",
       "<table border=\"1\" class=\"dataframe\">\n",
       "  <thead>\n",
       "    <tr style=\"text-align: right;\">\n",
       "      <th></th>\n",
       "      <th>customer_id</th>\n",
       "      <th>gender</th>\n",
       "      <th>tr_mean_1000</th>\n",
       "      <th>tr_mean_1010</th>\n",
       "      <th>tr_mean_1030</th>\n",
       "      <th>tr_mean_1100</th>\n",
       "      <th>tr_mean_1110</th>\n",
       "      <th>tr_mean_1200</th>\n",
       "      <th>tr_mean_1210</th>\n",
       "      <th>tr_mean_1310</th>\n",
       "      <th>...</th>\n",
       "      <th>sum</th>\n",
       "      <th>expenses</th>\n",
       "      <th>delta</th>\n",
       "      <th>trans_freq</th>\n",
       "      <th>daypart_1_freq</th>\n",
       "      <th>daypart_2_freq</th>\n",
       "      <th>daypart_3_freq</th>\n",
       "      <th>daypart_4_freq</th>\n",
       "      <th>daypart_5_freq</th>\n",
       "      <th>daypart_6_freq</th>\n",
       "    </tr>\n",
       "  </thead>\n",
       "  <tbody>\n",
       "    <tr>\n",
       "      <th>0</th>\n",
       "      <td>10928546</td>\n",
       "      <td>1.0</td>\n",
       "      <td>0.0</td>\n",
       "      <td>-429888.803286</td>\n",
       "      <td>-25470.167802</td>\n",
       "      <td>-39078.935000</td>\n",
       "      <td>-519345.032241</td>\n",
       "      <td>-51283.99</td>\n",
       "      <td>-193227.018873</td>\n",
       "      <td>0.0</td>\n",
       "      <td>...</td>\n",
       "      <td>723</td>\n",
       "      <td>-1.636168e+06</td>\n",
       "      <td>-7.054067e+08</td>\n",
       "      <td>1.585526</td>\n",
       "      <td>138.0</td>\n",
       "      <td>6.0</td>\n",
       "      <td>249.0</td>\n",
       "      <td>235.0</td>\n",
       "      <td>83.0</td>\n",
       "      <td>12.0</td>\n",
       "    </tr>\n",
       "    <tr>\n",
       "      <th>1</th>\n",
       "      <td>69348468</td>\n",
       "      <td>1.0</td>\n",
       "      <td>0.0</td>\n",
       "      <td>-5659.950290</td>\n",
       "      <td>-15541.803913</td>\n",
       "      <td>-2919.693333</td>\n",
       "      <td>-15446.149455</td>\n",
       "      <td>0.00</td>\n",
       "      <td>0.000000</td>\n",
       "      <td>0.0</td>\n",
       "      <td>...</td>\n",
       "      <td>438</td>\n",
       "      <td>-1.278606e+04</td>\n",
       "      <td>-5.743734e+06</td>\n",
       "      <td>0.958425</td>\n",
       "      <td>6.0</td>\n",
       "      <td>42.0</td>\n",
       "      <td>88.0</td>\n",
       "      <td>196.0</td>\n",
       "      <td>66.0</td>\n",
       "      <td>40.0</td>\n",
       "    </tr>\n",
       "    <tr>\n",
       "      <th>2</th>\n",
       "      <td>61009479</td>\n",
       "      <td>0.0</td>\n",
       "      <td>0.0</td>\n",
       "      <td>-7496.004127</td>\n",
       "      <td>-3150.699524</td>\n",
       "      <td>-4108.156111</td>\n",
       "      <td>-14747.864737</td>\n",
       "      <td>0.00</td>\n",
       "      <td>0.000000</td>\n",
       "      <td>0.0</td>\n",
       "      <td>...</td>\n",
       "      <td>471</td>\n",
       "      <td>-1.280173e+04</td>\n",
       "      <td>-3.303320e+05</td>\n",
       "      <td>1.080275</td>\n",
       "      <td>35.0</td>\n",
       "      <td>140.0</td>\n",
       "      <td>181.0</td>\n",
       "      <td>95.0</td>\n",
       "      <td>20.0</td>\n",
       "      <td>0.0</td>\n",
       "    </tr>\n",
       "    <tr>\n",
       "      <th>3</th>\n",
       "      <td>74045822</td>\n",
       "      <td>0.0</td>\n",
       "      <td>0.0</td>\n",
       "      <td>-22783.065417</td>\n",
       "      <td>-4965.720500</td>\n",
       "      <td>-1058.788571</td>\n",
       "      <td>-12970.657500</td>\n",
       "      <td>-1325.09</td>\n",
       "      <td>0.000000</td>\n",
       "      <td>0.0</td>\n",
       "      <td>...</td>\n",
       "      <td>166</td>\n",
       "      <td>-1.155475e+04</td>\n",
       "      <td>-3.671074e+06</td>\n",
       "      <td>0.457300</td>\n",
       "      <td>8.0</td>\n",
       "      <td>8.0</td>\n",
       "      <td>26.0</td>\n",
       "      <td>62.0</td>\n",
       "      <td>40.0</td>\n",
       "      <td>22.0</td>\n",
       "    </tr>\n",
       "    <tr>\n",
       "      <th>4</th>\n",
       "      <td>27979606</td>\n",
       "      <td>1.0</td>\n",
       "      <td>0.0</td>\n",
       "      <td>-8483.856552</td>\n",
       "      <td>-2500.026571</td>\n",
       "      <td>0.000000</td>\n",
       "      <td>-11808.669474</td>\n",
       "      <td>0.00</td>\n",
       "      <td>0.000000</td>\n",
       "      <td>0.0</td>\n",
       "      <td>...</td>\n",
       "      <td>153</td>\n",
       "      <td>-7.886703e+03</td>\n",
       "      <td>-2.020197e+06</td>\n",
       "      <td>0.590734</td>\n",
       "      <td>19.0</td>\n",
       "      <td>11.0</td>\n",
       "      <td>46.0</td>\n",
       "      <td>25.0</td>\n",
       "      <td>43.0</td>\n",
       "      <td>9.0</td>\n",
       "    </tr>\n",
       "  </tbody>\n",
       "</table>\n",
       "<p>5 rows × 534 columns</p>\n",
       "</div>"
      ],
      "text/plain": [
       "   customer_id  gender  tr_mean_1000   tr_mean_1010  tr_mean_1030  \\\n",
       "0     10928546     1.0           0.0 -429888.803286 -25470.167802   \n",
       "1     69348468     1.0           0.0   -5659.950290 -15541.803913   \n",
       "2     61009479     0.0           0.0   -7496.004127  -3150.699524   \n",
       "3     74045822     0.0           0.0  -22783.065417  -4965.720500   \n",
       "4     27979606     1.0           0.0   -8483.856552  -2500.026571   \n",
       "\n",
       "   tr_mean_1100   tr_mean_1110  tr_mean_1200   tr_mean_1210  tr_mean_1310  \\\n",
       "0 -39078.935000 -519345.032241     -51283.99 -193227.018873           0.0   \n",
       "1  -2919.693333  -15446.149455          0.00       0.000000           0.0   \n",
       "2  -4108.156111  -14747.864737          0.00       0.000000           0.0   \n",
       "3  -1058.788571  -12970.657500      -1325.09       0.000000           0.0   \n",
       "4      0.000000  -11808.669474          0.00       0.000000           0.0   \n",
       "\n",
       "   ...  sum      expenses         delta  trans_freq  daypart_1_freq  \\\n",
       "0  ...  723 -1.636168e+06 -7.054067e+08    1.585526           138.0   \n",
       "1  ...  438 -1.278606e+04 -5.743734e+06    0.958425             6.0   \n",
       "2  ...  471 -1.280173e+04 -3.303320e+05    1.080275            35.0   \n",
       "3  ...  166 -1.155475e+04 -3.671074e+06    0.457300             8.0   \n",
       "4  ...  153 -7.886703e+03 -2.020197e+06    0.590734            19.0   \n",
       "\n",
       "   daypart_2_freq  daypart_3_freq  daypart_4_freq  daypart_5_freq  \\\n",
       "0             6.0           249.0           235.0            83.0   \n",
       "1            42.0            88.0           196.0            66.0   \n",
       "2           140.0           181.0            95.0            20.0   \n",
       "3             8.0            26.0            62.0            40.0   \n",
       "4            11.0            46.0            25.0            43.0   \n",
       "\n",
       "   daypart_6_freq  \n",
       "0            12.0  \n",
       "1            40.0  \n",
       "2             0.0  \n",
       "3            22.0  \n",
       "4             9.0  \n",
       "\n",
       "[5 rows x 534 columns]"
      ]
     },
     "execution_count": 543,
     "metadata": {},
     "output_type": "execute_result"
    }
   ],
   "source": [
    "data_all.head()"
   ]
  },
  {
   "cell_type": "markdown",
   "metadata": {},
   "source": [
    "Перейдем от абсолютных значений количества транзакций клиента к их доле от всех его транзакций:"
   ]
  },
  {
   "cell_type": "code",
   "execution_count": 544,
   "metadata": {
    "scrolled": true
   },
   "outputs": [],
   "source": [
    "cols_to_freq = [col for col in data_all.columns if (('_freq_' in col) or ('daypart_' in col))]\n",
    "for col in cols_to_freq:\n",
    "    data_all[col] = data_all[col] / data_all['sum']"
   ]
  },
  {
   "cell_type": "code",
   "execution_count": 545,
   "metadata": {},
   "outputs": [
    {
     "data": {
      "text/html": [
       "<div>\n",
       "<style scoped>\n",
       "    .dataframe tbody tr th:only-of-type {\n",
       "        vertical-align: middle;\n",
       "    }\n",
       "\n",
       "    .dataframe tbody tr th {\n",
       "        vertical-align: top;\n",
       "    }\n",
       "\n",
       "    .dataframe thead th {\n",
       "        text-align: right;\n",
       "    }\n",
       "</style>\n",
       "<table border=\"1\" class=\"dataframe\">\n",
       "  <thead>\n",
       "    <tr style=\"text-align: right;\">\n",
       "      <th></th>\n",
       "      <th>customer_id</th>\n",
       "      <th>gender</th>\n",
       "      <th>tr_mean_1000</th>\n",
       "      <th>tr_mean_1010</th>\n",
       "      <th>tr_mean_1030</th>\n",
       "      <th>tr_mean_1100</th>\n",
       "      <th>tr_mean_1110</th>\n",
       "      <th>tr_mean_1200</th>\n",
       "      <th>tr_mean_1210</th>\n",
       "      <th>tr_mean_1310</th>\n",
       "      <th>...</th>\n",
       "      <th>mcc_freq_9402</th>\n",
       "      <th>expenses</th>\n",
       "      <th>delta</th>\n",
       "      <th>trans_freq</th>\n",
       "      <th>daypart_1_freq</th>\n",
       "      <th>daypart_2_freq</th>\n",
       "      <th>daypart_3_freq</th>\n",
       "      <th>daypart_4_freq</th>\n",
       "      <th>daypart_5_freq</th>\n",
       "      <th>daypart_6_freq</th>\n",
       "    </tr>\n",
       "  </thead>\n",
       "  <tbody>\n",
       "    <tr>\n",
       "      <th>0</th>\n",
       "      <td>10928546</td>\n",
       "      <td>1.0</td>\n",
       "      <td>0.0</td>\n",
       "      <td>-429888.803286</td>\n",
       "      <td>-25470.167802</td>\n",
       "      <td>-39078.935000</td>\n",
       "      <td>-519345.032241</td>\n",
       "      <td>-51283.99</td>\n",
       "      <td>-193227.018873</td>\n",
       "      <td>0.0</td>\n",
       "      <td>...</td>\n",
       "      <td>0.0</td>\n",
       "      <td>-1.636168e+06</td>\n",
       "      <td>-7.054067e+08</td>\n",
       "      <td>1.585526</td>\n",
       "      <td>0.190871</td>\n",
       "      <td>0.008299</td>\n",
       "      <td>0.344398</td>\n",
       "      <td>0.325035</td>\n",
       "      <td>0.114799</td>\n",
       "      <td>0.016598</td>\n",
       "    </tr>\n",
       "    <tr>\n",
       "      <th>1</th>\n",
       "      <td>69348468</td>\n",
       "      <td>1.0</td>\n",
       "      <td>0.0</td>\n",
       "      <td>-5659.950290</td>\n",
       "      <td>-15541.803913</td>\n",
       "      <td>-2919.693333</td>\n",
       "      <td>-15446.149455</td>\n",
       "      <td>0.00</td>\n",
       "      <td>0.000000</td>\n",
       "      <td>0.0</td>\n",
       "      <td>...</td>\n",
       "      <td>0.0</td>\n",
       "      <td>-1.278606e+04</td>\n",
       "      <td>-5.743734e+06</td>\n",
       "      <td>0.958425</td>\n",
       "      <td>0.013699</td>\n",
       "      <td>0.095890</td>\n",
       "      <td>0.200913</td>\n",
       "      <td>0.447489</td>\n",
       "      <td>0.150685</td>\n",
       "      <td>0.091324</td>\n",
       "    </tr>\n",
       "    <tr>\n",
       "      <th>2</th>\n",
       "      <td>61009479</td>\n",
       "      <td>0.0</td>\n",
       "      <td>0.0</td>\n",
       "      <td>-7496.004127</td>\n",
       "      <td>-3150.699524</td>\n",
       "      <td>-4108.156111</td>\n",
       "      <td>-14747.864737</td>\n",
       "      <td>0.00</td>\n",
       "      <td>0.000000</td>\n",
       "      <td>0.0</td>\n",
       "      <td>...</td>\n",
       "      <td>0.0</td>\n",
       "      <td>-1.280173e+04</td>\n",
       "      <td>-3.303320e+05</td>\n",
       "      <td>1.080275</td>\n",
       "      <td>0.074310</td>\n",
       "      <td>0.297240</td>\n",
       "      <td>0.384289</td>\n",
       "      <td>0.201699</td>\n",
       "      <td>0.042463</td>\n",
       "      <td>0.000000</td>\n",
       "    </tr>\n",
       "    <tr>\n",
       "      <th>3</th>\n",
       "      <td>74045822</td>\n",
       "      <td>0.0</td>\n",
       "      <td>0.0</td>\n",
       "      <td>-22783.065417</td>\n",
       "      <td>-4965.720500</td>\n",
       "      <td>-1058.788571</td>\n",
       "      <td>-12970.657500</td>\n",
       "      <td>-1325.09</td>\n",
       "      <td>0.000000</td>\n",
       "      <td>0.0</td>\n",
       "      <td>...</td>\n",
       "      <td>0.0</td>\n",
       "      <td>-1.155475e+04</td>\n",
       "      <td>-3.671074e+06</td>\n",
       "      <td>0.457300</td>\n",
       "      <td>0.048193</td>\n",
       "      <td>0.048193</td>\n",
       "      <td>0.156627</td>\n",
       "      <td>0.373494</td>\n",
       "      <td>0.240964</td>\n",
       "      <td>0.132530</td>\n",
       "    </tr>\n",
       "    <tr>\n",
       "      <th>4</th>\n",
       "      <td>27979606</td>\n",
       "      <td>1.0</td>\n",
       "      <td>0.0</td>\n",
       "      <td>-8483.856552</td>\n",
       "      <td>-2500.026571</td>\n",
       "      <td>0.000000</td>\n",
       "      <td>-11808.669474</td>\n",
       "      <td>0.00</td>\n",
       "      <td>0.000000</td>\n",
       "      <td>0.0</td>\n",
       "      <td>...</td>\n",
       "      <td>0.0</td>\n",
       "      <td>-7.886703e+03</td>\n",
       "      <td>-2.020197e+06</td>\n",
       "      <td>0.590734</td>\n",
       "      <td>0.124183</td>\n",
       "      <td>0.071895</td>\n",
       "      <td>0.300654</td>\n",
       "      <td>0.163399</td>\n",
       "      <td>0.281046</td>\n",
       "      <td>0.058824</td>\n",
       "    </tr>\n",
       "  </tbody>\n",
       "</table>\n",
       "<p>5 rows × 533 columns</p>\n",
       "</div>"
      ],
      "text/plain": [
       "   customer_id  gender  tr_mean_1000   tr_mean_1010  tr_mean_1030  \\\n",
       "0     10928546     1.0           0.0 -429888.803286 -25470.167802   \n",
       "1     69348468     1.0           0.0   -5659.950290 -15541.803913   \n",
       "2     61009479     0.0           0.0   -7496.004127  -3150.699524   \n",
       "3     74045822     0.0           0.0  -22783.065417  -4965.720500   \n",
       "4     27979606     1.0           0.0   -8483.856552  -2500.026571   \n",
       "\n",
       "   tr_mean_1100   tr_mean_1110  tr_mean_1200   tr_mean_1210  tr_mean_1310  \\\n",
       "0 -39078.935000 -519345.032241     -51283.99 -193227.018873           0.0   \n",
       "1  -2919.693333  -15446.149455          0.00       0.000000           0.0   \n",
       "2  -4108.156111  -14747.864737          0.00       0.000000           0.0   \n",
       "3  -1058.788571  -12970.657500      -1325.09       0.000000           0.0   \n",
       "4      0.000000  -11808.669474          0.00       0.000000           0.0   \n",
       "\n",
       "   ...  mcc_freq_9402      expenses         delta  trans_freq  daypart_1_freq  \\\n",
       "0  ...            0.0 -1.636168e+06 -7.054067e+08    1.585526        0.190871   \n",
       "1  ...            0.0 -1.278606e+04 -5.743734e+06    0.958425        0.013699   \n",
       "2  ...            0.0 -1.280173e+04 -3.303320e+05    1.080275        0.074310   \n",
       "3  ...            0.0 -1.155475e+04 -3.671074e+06    0.457300        0.048193   \n",
       "4  ...            0.0 -7.886703e+03 -2.020197e+06    0.590734        0.124183   \n",
       "\n",
       "   daypart_2_freq  daypart_3_freq  daypart_4_freq  daypart_5_freq  \\\n",
       "0        0.008299        0.344398        0.325035        0.114799   \n",
       "1        0.095890        0.200913        0.447489        0.150685   \n",
       "2        0.297240        0.384289        0.201699        0.042463   \n",
       "3        0.048193        0.156627        0.373494        0.240964   \n",
       "4        0.071895        0.300654        0.163399        0.281046   \n",
       "\n",
       "   daypart_6_freq  \n",
       "0        0.016598  \n",
       "1        0.091324  \n",
       "2        0.000000  \n",
       "3        0.132530  \n",
       "4        0.058824  \n",
       "\n",
       "[5 rows x 533 columns]"
      ]
     },
     "execution_count": 545,
     "metadata": {},
     "output_type": "execute_result"
    }
   ],
   "source": [
    "data_all.drop('sum', axis=1, inplace=True)\n",
    "data_all.head()"
   ]
  },
  {
   "cell_type": "markdown",
   "metadata": {},
   "source": [
    "# Оценка влияния добавленных признаков"
   ]
  },
  {
   "cell_type": "markdown",
   "metadata": {},
   "source": [
    "Делим данные на **train** и **test** в зависимости от наличия значения признака **gender**:"
   ]
  },
  {
   "cell_type": "code",
   "execution_count": 546,
   "metadata": {},
   "outputs": [],
   "source": [
    "data_train = data_all[~data_all['gender'].isna()]\n",
    "data_test = data_all[data_all['gender'].isna()]"
   ]
  },
  {
   "cell_type": "markdown",
   "metadata": {},
   "source": [
    "Посмотрим на влияние сгенерированных признаков на целевую переменную:"
   ]
  },
  {
   "cell_type": "code",
   "execution_count": 547,
   "metadata": {},
   "outputs": [
    {
     "data": {
      "image/png": "[encoded data removed]",
      "text/plain": [
       "<Figure size 432x288 with 1 Axes>"
      ]
     },
     "metadata": {},
     "output_type": "display_data"
    }
   ],
   "source": [
    "sns.kdeplot(data_train[np.abs(data_train['expenses']) < 100000]['expenses'][data_train['gender'] == 0], \\\n",
    "            color='blue', label=0, shade=True)\n",
    "sns.kdeplot(data_train[np.abs(data_train['expenses']) < 100000]['expenses'][data_train['gender'] == 1], \\\n",
    "            color='red', label=1, shade=True)\n",
    "sns.set(font_scale=1.2)\n",
    "plt.title('Средние расходы клиента за день')\n",
    "plt.legend();"
   ]
  },
  {
   "cell_type": "code",
   "execution_count": 548,
   "metadata": {},
   "outputs": [
    {
     "data": {
      "image/png": "[encoded data removed]",
      "text/plain": [
       "<Figure size 432x288 with 1 Axes>"
      ]
     },
     "metadata": {},
     "output_type": "display_data"
    }
   ],
   "source": [
    "sns.kdeplot(data_train[np.abs(data_train['delta']) < 10000000]['delta'][data_train['gender'] == 0], \\\n",
    "            color='blue', label=0, shade=True);\n",
    "sns.kdeplot(data_train[np.abs(data_train['delta']) < 10000000]['delta'][data_train['gender'] == 1], \\\n",
    "            color='red', label=1, shade=True);\n",
    "plt.title('Разница между доходами и расходами')\n",
    "plt.legend();"
   ]
  },
  {
   "cell_type": "code",
   "execution_count": 549,
   "metadata": {},
   "outputs": [
    {
     "data": {
      "image/png": "[encoded data removed]",
      "text/plain": [
       "<Figure size 432x288 with 1 Axes>"
      ]
     },
     "metadata": {},
     "output_type": "display_data"
    }
   ],
   "source": [
    "sns.kdeplot(data_train[np.abs(data_train['trans_freq']) < 5]['trans_freq'][data_train['gender'] == 0], \\\n",
    "            color='blue', label=0, shade=True);\n",
    "sns.kdeplot(data_train[np.abs(data_train['trans_freq']) < 5]['trans_freq'][data_train['gender'] == 1], \\\n",
    "            color='red', label=1, shade=True);\n",
    "plt.title('Среднее количество транзакций за день')\n",
    "plt.legend();"
   ]
  },
  {
   "cell_type": "code",
   "execution_count": 550,
   "metadata": {},
   "outputs": [
    {
     "data": {
      "image/png": "[encoded data removed]",
      "text/plain": [
       "<Figure size 432x288 with 1 Axes>"
      ]
     },
     "metadata": {},
     "output_type": "display_data"
    }
   ],
   "source": [
    "sns.kdeplot(data_train[np.abs(data_train['daypart_4_freq']) < 5]['daypart_4_freq'][data_train['gender'] == 0], \\\n",
    "            color='blue', label=0, shade=True);\n",
    "sns.kdeplot(data_train[np.abs(data_train['daypart_4_freq']) < 5]['daypart_4_freq'][data_train['gender'] == 1], \\\n",
    "            color='red', label=1, shade=True);\n",
    "plt.title('Доля транзакций за временной интервал суток')\n",
    "plt.legend();"
   ]
  },
  {
   "cell_type": "code",
   "execution_count": 552,
   "metadata": {},
   "outputs": [
    {
     "data": {
      "image/png": "[encoded data removed]",
      "text/plain": [
       "<Figure size 432x288 with 1 Axes>"
      ]
     },
     "metadata": {},
     "output_type": "display_data"
    }
   ],
   "source": [
    "sns.kdeplot(data_train[data_train['mcc_freq_5661'] < 0.05]['mcc_freq_5661'][data_train['gender'] == 0], \\\n",
    "            color='blue', label=0, shade=True);\n",
    "sns.kdeplot(data_train[data_train['mcc_freq_5661'] < 0.05]['mcc_freq_5661'][data_train['gender'] == 1], \\\n",
    "            color='red', label=1, shade=True);\n",
    "plt.title('Доля транзакций по MCC-коду 5661')\n",
    "plt.legend();"
   ]
  },
  {
   "cell_type": "markdown",
   "metadata": {},
   "source": [
    "Можно убедиться, что введенные признаки оказывают влияние на целевую переменную."
   ]
  },
  {
   "cell_type": "markdown",
   "metadata": {},
   "source": [
    "# Финальная подготовка данных"
   ]
  },
  {
   "cell_type": "markdown",
   "metadata": {},
   "source": [
    "Таким образом, финальная модель содержит следующие признаки для каждого клиента:\n",
    "- Средние значения сумм и частоты транзакций по типам\n",
    "- Средние значения сумм и частоты транзакций по MCC-кодам\n",
    "- Средний расход клиента в пересчете на 1 день и разницу этой величины с его средним доходом\n",
    "- Среднее количество транзакций клиента за 1 день\n",
    "- Распределение частоты транзакций клиента по времени суток"
   ]
  },
  {
   "cell_type": "code",
   "execution_count": 580,
   "metadata": {},
   "outputs": [
    {
     "data": {
      "text/html": [
       "<div>\n",
       "<style scoped>\n",
       "    .dataframe tbody tr th:only-of-type {\n",
       "        vertical-align: middle;\n",
       "    }\n",
       "\n",
       "    .dataframe tbody tr th {\n",
       "        vertical-align: top;\n",
       "    }\n",
       "\n",
       "    .dataframe thead th {\n",
       "        text-align: right;\n",
       "    }\n",
       "</style>\n",
       "<table border=\"1\" class=\"dataframe\">\n",
       "  <thead>\n",
       "    <tr style=\"text-align: right;\">\n",
       "      <th></th>\n",
       "      <th>customer_id</th>\n",
       "      <th>gender</th>\n",
       "      <th>tr_mean_1000</th>\n",
       "      <th>tr_mean_1010</th>\n",
       "      <th>tr_mean_1030</th>\n",
       "      <th>tr_mean_1100</th>\n",
       "      <th>tr_mean_1110</th>\n",
       "      <th>tr_mean_1200</th>\n",
       "      <th>tr_mean_1210</th>\n",
       "      <th>tr_mean_1310</th>\n",
       "      <th>...</th>\n",
       "      <th>mcc_freq_9402</th>\n",
       "      <th>expenses</th>\n",
       "      <th>delta</th>\n",
       "      <th>trans_freq</th>\n",
       "      <th>daypart_1_freq</th>\n",
       "      <th>daypart_2_freq</th>\n",
       "      <th>daypart_3_freq</th>\n",
       "      <th>daypart_4_freq</th>\n",
       "      <th>daypart_5_freq</th>\n",
       "      <th>daypart_6_freq</th>\n",
       "    </tr>\n",
       "  </thead>\n",
       "  <tbody>\n",
       "    <tr>\n",
       "      <th>0</th>\n",
       "      <td>10928546</td>\n",
       "      <td>1.0</td>\n",
       "      <td>0.0</td>\n",
       "      <td>-429888.803286</td>\n",
       "      <td>-25470.167802</td>\n",
       "      <td>-39078.935000</td>\n",
       "      <td>-519345.032241</td>\n",
       "      <td>-51283.99</td>\n",
       "      <td>-193227.018873</td>\n",
       "      <td>0.0</td>\n",
       "      <td>...</td>\n",
       "      <td>0.0</td>\n",
       "      <td>-1.636168e+06</td>\n",
       "      <td>-7.054067e+08</td>\n",
       "      <td>1.585526</td>\n",
       "      <td>0.190871</td>\n",
       "      <td>0.008299</td>\n",
       "      <td>0.344398</td>\n",
       "      <td>0.325035</td>\n",
       "      <td>0.114799</td>\n",
       "      <td>0.016598</td>\n",
       "    </tr>\n",
       "    <tr>\n",
       "      <th>1</th>\n",
       "      <td>69348468</td>\n",
       "      <td>1.0</td>\n",
       "      <td>0.0</td>\n",
       "      <td>-5659.950290</td>\n",
       "      <td>-15541.803913</td>\n",
       "      <td>-2919.693333</td>\n",
       "      <td>-15446.149455</td>\n",
       "      <td>0.00</td>\n",
       "      <td>0.000000</td>\n",
       "      <td>0.0</td>\n",
       "      <td>...</td>\n",
       "      <td>0.0</td>\n",
       "      <td>-1.278606e+04</td>\n",
       "      <td>-5.743734e+06</td>\n",
       "      <td>0.958425</td>\n",
       "      <td>0.013699</td>\n",
       "      <td>0.095890</td>\n",
       "      <td>0.200913</td>\n",
       "      <td>0.447489</td>\n",
       "      <td>0.150685</td>\n",
       "      <td>0.091324</td>\n",
       "    </tr>\n",
       "    <tr>\n",
       "      <th>2</th>\n",
       "      <td>61009479</td>\n",
       "      <td>0.0</td>\n",
       "      <td>0.0</td>\n",
       "      <td>-7496.004127</td>\n",
       "      <td>-3150.699524</td>\n",
       "      <td>-4108.156111</td>\n",
       "      <td>-14747.864737</td>\n",
       "      <td>0.00</td>\n",
       "      <td>0.000000</td>\n",
       "      <td>0.0</td>\n",
       "      <td>...</td>\n",
       "      <td>0.0</td>\n",
       "      <td>-1.280173e+04</td>\n",
       "      <td>-3.303320e+05</td>\n",
       "      <td>1.080275</td>\n",
       "      <td>0.074310</td>\n",
       "      <td>0.297240</td>\n",
       "      <td>0.384289</td>\n",
       "      <td>0.201699</td>\n",
       "      <td>0.042463</td>\n",
       "      <td>0.000000</td>\n",
       "    </tr>\n",
       "    <tr>\n",
       "      <th>3</th>\n",
       "      <td>74045822</td>\n",
       "      <td>0.0</td>\n",
       "      <td>0.0</td>\n",
       "      <td>-22783.065417</td>\n",
       "      <td>-4965.720500</td>\n",
       "      <td>-1058.788571</td>\n",
       "      <td>-12970.657500</td>\n",
       "      <td>-1325.09</td>\n",
       "      <td>0.000000</td>\n",
       "      <td>0.0</td>\n",
       "      <td>...</td>\n",
       "      <td>0.0</td>\n",
       "      <td>-1.155475e+04</td>\n",
       "      <td>-3.671074e+06</td>\n",
       "      <td>0.457300</td>\n",
       "      <td>0.048193</td>\n",
       "      <td>0.048193</td>\n",
       "      <td>0.156627</td>\n",
       "      <td>0.373494</td>\n",
       "      <td>0.240964</td>\n",
       "      <td>0.132530</td>\n",
       "    </tr>\n",
       "    <tr>\n",
       "      <th>4</th>\n",
       "      <td>27979606</td>\n",
       "      <td>1.0</td>\n",
       "      <td>0.0</td>\n",
       "      <td>-8483.856552</td>\n",
       "      <td>-2500.026571</td>\n",
       "      <td>0.000000</td>\n",
       "      <td>-11808.669474</td>\n",
       "      <td>0.00</td>\n",
       "      <td>0.000000</td>\n",
       "      <td>0.0</td>\n",
       "      <td>...</td>\n",
       "      <td>0.0</td>\n",
       "      <td>-7.886703e+03</td>\n",
       "      <td>-2.020197e+06</td>\n",
       "      <td>0.590734</td>\n",
       "      <td>0.124183</td>\n",
       "      <td>0.071895</td>\n",
       "      <td>0.300654</td>\n",
       "      <td>0.163399</td>\n",
       "      <td>0.281046</td>\n",
       "      <td>0.058824</td>\n",
       "    </tr>\n",
       "  </tbody>\n",
       "</table>\n",
       "<p>5 rows × 533 columns</p>\n",
       "</div>"
      ],
      "text/plain": [
       "   customer_id  gender  tr_mean_1000   tr_mean_1010  tr_mean_1030  \\\n",
       "0     10928546     1.0           0.0 -429888.803286 -25470.167802   \n",
       "1     69348468     1.0           0.0   -5659.950290 -15541.803913   \n",
       "2     61009479     0.0           0.0   -7496.004127  -3150.699524   \n",
       "3     74045822     0.0           0.0  -22783.065417  -4965.720500   \n",
       "4     27979606     1.0           0.0   -8483.856552  -2500.026571   \n",
       "\n",
       "   tr_mean_1100   tr_mean_1110  tr_mean_1200   tr_mean_1210  tr_mean_1310  \\\n",
       "0 -39078.935000 -519345.032241     -51283.99 -193227.018873           0.0   \n",
       "1  -2919.693333  -15446.149455          0.00       0.000000           0.0   \n",
       "2  -4108.156111  -14747.864737          0.00       0.000000           0.0   \n",
       "3  -1058.788571  -12970.657500      -1325.09       0.000000           0.0   \n",
       "4      0.000000  -11808.669474          0.00       0.000000           0.0   \n",
       "\n",
       "   ...  mcc_freq_9402      expenses         delta  trans_freq  daypart_1_freq  \\\n",
       "0  ...            0.0 -1.636168e+06 -7.054067e+08    1.585526        0.190871   \n",
       "1  ...            0.0 -1.278606e+04 -5.743734e+06    0.958425        0.013699   \n",
       "2  ...            0.0 -1.280173e+04 -3.303320e+05    1.080275        0.074310   \n",
       "3  ...            0.0 -1.155475e+04 -3.671074e+06    0.457300        0.048193   \n",
       "4  ...            0.0 -7.886703e+03 -2.020197e+06    0.590734        0.124183   \n",
       "\n",
       "   daypart_2_freq  daypart_3_freq  daypart_4_freq  daypart_5_freq  \\\n",
       "0        0.008299        0.344398        0.325035        0.114799   \n",
       "1        0.095890        0.200913        0.447489        0.150685   \n",
       "2        0.297240        0.384289        0.201699        0.042463   \n",
       "3        0.048193        0.156627        0.373494        0.240964   \n",
       "4        0.071895        0.300654        0.163399        0.281046   \n",
       "\n",
       "   daypart_6_freq  \n",
       "0        0.016598  \n",
       "1        0.091324  \n",
       "2        0.000000  \n",
       "3        0.132530  \n",
       "4        0.058824  \n",
       "\n",
       "[5 rows x 533 columns]"
      ]
     },
     "execution_count": 580,
     "metadata": {},
     "output_type": "execute_result"
    }
   ],
   "source": [
    "data_train.head()"
   ]
  },
  {
   "cell_type": "code",
   "execution_count": 581,
   "metadata": {},
   "outputs": [
    {
     "data": {
      "text/html": [
       "<div>\n",
       "<style scoped>\n",
       "    .dataframe tbody tr th:only-of-type {\n",
       "        vertical-align: middle;\n",
       "    }\n",
       "\n",
       "    .dataframe tbody tr th {\n",
       "        vertical-align: top;\n",
       "    }\n",
       "\n",
       "    .dataframe thead th {\n",
       "        text-align: right;\n",
       "    }\n",
       "</style>\n",
       "<table border=\"1\" class=\"dataframe\">\n",
       "  <thead>\n",
       "    <tr style=\"text-align: right;\">\n",
       "      <th></th>\n",
       "      <th>customer_id</th>\n",
       "      <th>gender</th>\n",
       "      <th>tr_mean_1000</th>\n",
       "      <th>tr_mean_1010</th>\n",
       "      <th>tr_mean_1030</th>\n",
       "      <th>tr_mean_1100</th>\n",
       "      <th>tr_mean_1110</th>\n",
       "      <th>tr_mean_1200</th>\n",
       "      <th>tr_mean_1210</th>\n",
       "      <th>tr_mean_1310</th>\n",
       "      <th>...</th>\n",
       "      <th>mcc_freq_9402</th>\n",
       "      <th>expenses</th>\n",
       "      <th>delta</th>\n",
       "      <th>trans_freq</th>\n",
       "      <th>daypart_1_freq</th>\n",
       "      <th>daypart_2_freq</th>\n",
       "      <th>daypart_3_freq</th>\n",
       "      <th>daypart_4_freq</th>\n",
       "      <th>daypart_5_freq</th>\n",
       "      <th>daypart_6_freq</th>\n",
       "    </tr>\n",
       "  </thead>\n",
       "  <tbody>\n",
       "    <tr>\n",
       "      <th>8400</th>\n",
       "      <td>6815</td>\n",
       "      <td>NaN</td>\n",
       "      <td>0.0</td>\n",
       "      <td>-7627.253810</td>\n",
       "      <td>-2770.465889</td>\n",
       "      <td>0.000000</td>\n",
       "      <td>-9703.427778</td>\n",
       "      <td>0.000000</td>\n",
       "      <td>0.000000</td>\n",
       "      <td>0.0</td>\n",
       "      <td>...</td>\n",
       "      <td>0.0</td>\n",
       "      <td>-8889.905551</td>\n",
       "      <td>-1249454.87</td>\n",
       "      <td>0.507865</td>\n",
       "      <td>0.008850</td>\n",
       "      <td>0.013274</td>\n",
       "      <td>0.420354</td>\n",
       "      <td>0.380531</td>\n",
       "      <td>0.137168</td>\n",
       "      <td>0.039823</td>\n",
       "    </tr>\n",
       "    <tr>\n",
       "      <th>8401</th>\n",
       "      <td>27914</td>\n",
       "      <td>NaN</td>\n",
       "      <td>0.0</td>\n",
       "      <td>0.000000</td>\n",
       "      <td>-2896.459828</td>\n",
       "      <td>0.000000</td>\n",
       "      <td>-6731.460000</td>\n",
       "      <td>-22158.090000</td>\n",
       "      <td>0.000000</td>\n",
       "      <td>0.0</td>\n",
       "      <td>...</td>\n",
       "      <td>0.0</td>\n",
       "      <td>-7715.049021</td>\n",
       "      <td>-2977026.82</td>\n",
       "      <td>0.252847</td>\n",
       "      <td>0.027027</td>\n",
       "      <td>0.099099</td>\n",
       "      <td>0.405405</td>\n",
       "      <td>0.252252</td>\n",
       "      <td>0.216216</td>\n",
       "      <td>0.000000</td>\n",
       "    </tr>\n",
       "    <tr>\n",
       "      <th>8402</th>\n",
       "      <td>31385</td>\n",
       "      <td>NaN</td>\n",
       "      <td>0.0</td>\n",
       "      <td>-6110.220533</td>\n",
       "      <td>-2921.307760</td>\n",
       "      <td>0.000000</td>\n",
       "      <td>-11946.789467</td>\n",
       "      <td>0.000000</td>\n",
       "      <td>0.000000</td>\n",
       "      <td>0.0</td>\n",
       "      <td>...</td>\n",
       "      <td>0.0</td>\n",
       "      <td>-7852.032105</td>\n",
       "      <td>-2493668.17</td>\n",
       "      <td>0.835240</td>\n",
       "      <td>0.030137</td>\n",
       "      <td>0.043836</td>\n",
       "      <td>0.246575</td>\n",
       "      <td>0.232877</td>\n",
       "      <td>0.208219</td>\n",
       "      <td>0.238356</td>\n",
       "    </tr>\n",
       "    <tr>\n",
       "      <th>8403</th>\n",
       "      <td>38084</td>\n",
       "      <td>NaN</td>\n",
       "      <td>0.0</td>\n",
       "      <td>-27207.299446</td>\n",
       "      <td>-4661.242543</td>\n",
       "      <td>-346174.175000</td>\n",
       "      <td>-28261.251053</td>\n",
       "      <td>-2612.220000</td>\n",
       "      <td>-50518.160635</td>\n",
       "      <td>0.0</td>\n",
       "      <td>...</td>\n",
       "      <td>0.0</td>\n",
       "      <td>-62133.868904</td>\n",
       "      <td>-1970597.08</td>\n",
       "      <td>2.087719</td>\n",
       "      <td>0.158613</td>\n",
       "      <td>0.023109</td>\n",
       "      <td>0.198529</td>\n",
       "      <td>0.236345</td>\n",
       "      <td>0.305672</td>\n",
       "      <td>0.077731</td>\n",
       "    </tr>\n",
       "    <tr>\n",
       "      <th>8404</th>\n",
       "      <td>78659</td>\n",
       "      <td>NaN</td>\n",
       "      <td>0.0</td>\n",
       "      <td>0.000000</td>\n",
       "      <td>-2429.106089</td>\n",
       "      <td>-18215.374444</td>\n",
       "      <td>0.000000</td>\n",
       "      <td>-8874.815542</td>\n",
       "      <td>0.000000</td>\n",
       "      <td>0.0</td>\n",
       "      <td>...</td>\n",
       "      <td>0.0</td>\n",
       "      <td>-3340.120330</td>\n",
       "      <td>41388.37</td>\n",
       "      <td>0.752358</td>\n",
       "      <td>0.300940</td>\n",
       "      <td>0.037618</td>\n",
       "      <td>0.040752</td>\n",
       "      <td>0.125392</td>\n",
       "      <td>0.128527</td>\n",
       "      <td>0.366771</td>\n",
       "    </tr>\n",
       "  </tbody>\n",
       "</table>\n",
       "<p>5 rows × 533 columns</p>\n",
       "</div>"
      ],
      "text/plain": [
       "      customer_id  gender  tr_mean_1000  tr_mean_1010  tr_mean_1030  \\\n",
       "8400         6815     NaN           0.0  -7627.253810  -2770.465889   \n",
       "8401        27914     NaN           0.0      0.000000  -2896.459828   \n",
       "8402        31385     NaN           0.0  -6110.220533  -2921.307760   \n",
       "8403        38084     NaN           0.0 -27207.299446  -4661.242543   \n",
       "8404        78659     NaN           0.0      0.000000  -2429.106089   \n",
       "\n",
       "       tr_mean_1100  tr_mean_1110  tr_mean_1200  tr_mean_1210  tr_mean_1310  \\\n",
       "8400       0.000000  -9703.427778      0.000000      0.000000           0.0   \n",
       "8401       0.000000  -6731.460000 -22158.090000      0.000000           0.0   \n",
       "8402       0.000000 -11946.789467      0.000000      0.000000           0.0   \n",
       "8403 -346174.175000 -28261.251053  -2612.220000 -50518.160635           0.0   \n",
       "8404  -18215.374444      0.000000  -8874.815542      0.000000           0.0   \n",
       "\n",
       "      ...  mcc_freq_9402      expenses       delta  trans_freq  \\\n",
       "8400  ...            0.0  -8889.905551 -1249454.87    0.507865   \n",
       "8401  ...            0.0  -7715.049021 -2977026.82    0.252847   \n",
       "8402  ...            0.0  -7852.032105 -2493668.17    0.835240   \n",
       "8403  ...            0.0 -62133.868904 -1970597.08    2.087719   \n",
       "8404  ...            0.0  -3340.120330    41388.37    0.752358   \n",
       "\n",
       "      daypart_1_freq  daypart_2_freq  daypart_3_freq  daypart_4_freq  \\\n",
       "8400        0.008850        0.013274        0.420354        0.380531   \n",
       "8401        0.027027        0.099099        0.405405        0.252252   \n",
       "8402        0.030137        0.043836        0.246575        0.232877   \n",
       "8403        0.158613        0.023109        0.198529        0.236345   \n",
       "8404        0.300940        0.037618        0.040752        0.125392   \n",
       "\n",
       "      daypart_5_freq  daypart_6_freq  \n",
       "8400        0.137168        0.039823  \n",
       "8401        0.216216        0.000000  \n",
       "8402        0.208219        0.238356  \n",
       "8403        0.305672        0.077731  \n",
       "8404        0.128527        0.366771  \n",
       "\n",
       "[5 rows x 533 columns]"
      ]
     },
     "execution_count": 581,
     "metadata": {},
     "output_type": "execute_result"
    }
   ],
   "source": [
    "data_test.head()"
   ]
  },
  {
   "cell_type": "code",
   "execution_count": 582,
   "metadata": {},
   "outputs": [],
   "source": [
    "X_train = data_train.drop(['customer_id', 'gender'], axis=1)\n",
    "y = data_train['gender'].astype(int)\n",
    "\n",
    "X_test = data_test.drop(['customer_id', 'gender'], axis=1)"
   ]
  },
  {
   "cell_type": "code",
   "execution_count": 583,
   "metadata": {},
   "outputs": [
    {
     "data": {
      "text/plain": [
       "((8400, 531), (3600, 531))"
      ]
     },
     "execution_count": 583,
     "metadata": {},
     "output_type": "execute_result"
    }
   ],
   "source": [
    "X_train.shape, X_test.shape"
   ]
  },
  {
   "cell_type": "markdown",
   "metadata": {},
   "source": [
    "# Построение модели"
   ]
  },
  {
   "cell_type": "code",
   "execution_count": 558,
   "metadata": {},
   "outputs": [],
   "source": [
    "from sklearn.model_selection import train_test_split\n",
    "from catboost import CatBoostClassifier\n",
    "X_train_cb, X_valid_cb, y_train_cb, y_valid_cb = train_test_split(X_train, y, test_size=0.2, random_state=18)"
   ]
  },
  {
   "cell_type": "code",
   "execution_count": 561,
   "metadata": {},
   "outputs": [],
   "source": [
    "ctb = CatBoostClassifier(depth=6, iterations=2000, random_seed=18, eval_metric='AUC')"
   ]
  },
  {
   "cell_type": "code",
   "execution_count": 562,
   "metadata": {},
   "outputs": [
    {
     "data": {
      "application/vnd.jupyter.widget-view+json": {
       "model_id": "d3750bd15d5844bdac7cc9ec2ff1bd3c",
       "version_major": 2,
       "version_minor": 0
      },
      "text/plain": [
       "MetricVisualizer(layout=Layout(align_self='stretch', height='500px'))"
      ]
     },
     "metadata": {},
     "output_type": "display_data"
    },
    {
     "name": "stdout",
     "output_type": "stream",
     "text": [
      "Learning rate set to 0.037525\n",
      "0:\ttest: 0.7319735\tbest: 0.7319735 (0)\ttotal: 69.6ms\tremaining: 2m 19s\n",
      "100:\ttest: 0.8637208\tbest: 0.8637208 (100)\ttotal: 2.71s\tremaining: 50.9s\n",
      "200:\ttest: 0.8768527\tbest: 0.8768527 (200)\ttotal: 5.33s\tremaining: 47.7s\n",
      "300:\ttest: 0.8807174\tbest: 0.8807174 (300)\ttotal: 7.92s\tremaining: 44.7s\n",
      "400:\ttest: 0.8829053\tbest: 0.8829927 (398)\ttotal: 10.5s\tremaining: 41.9s\n",
      "500:\ttest: 0.8836657\tbest: 0.8841224 (460)\ttotal: 13.2s\tremaining: 39.4s\n",
      "600:\ttest: 0.8841768\tbest: 0.8843888 (594)\ttotal: 15.8s\tremaining: 36.8s\n",
      "700:\ttest: 0.8838962\tbest: 0.8844274 (604)\ttotal: 18.4s\tremaining: 34.2s\n",
      "800:\ttest: 0.8839878\tbest: 0.8844274 (604)\ttotal: 21.1s\tremaining: 31.6s\n",
      "900:\ttest: 0.8835583\tbest: 0.8844274 (604)\ttotal: 23.8s\tremaining: 29s\n",
      "1000:\ttest: 0.8845864\tbest: 0.8845950 (999)\ttotal: 26.4s\tremaining: 26.4s\n",
      "1100:\ttest: 0.8849300\tbest: 0.8849443 (1097)\ttotal: 29.1s\tremaining: 23.8s\n",
      "1200:\ttest: 0.8849544\tbest: 0.8853739 (1160)\ttotal: 31.8s\tremaining: 21.2s\n",
      "1300:\ttest: 0.8850474\tbest: 0.8853739 (1160)\ttotal: 34.6s\tremaining: 18.6s\n",
      "1400:\ttest: 0.8849429\tbest: 0.8855443 (1356)\ttotal: 37.3s\tremaining: 15.9s\n",
      "1500:\ttest: 0.8846580\tbest: 0.8855443 (1356)\ttotal: 40s\tremaining: 13.3s\n",
      "1600:\ttest: 0.8847081\tbest: 0.8855443 (1356)\ttotal: 42.7s\tremaining: 10.6s\n",
      "1700:\ttest: 0.8850431\tbest: 0.8855443 (1356)\ttotal: 45.5s\tremaining: 8s\n",
      "1800:\ttest: 0.8846207\tbest: 0.8855443 (1356)\ttotal: 48.3s\tremaining: 5.33s\n",
      "1900:\ttest: 0.8845749\tbest: 0.8855443 (1356)\ttotal: 51.2s\tremaining: 2.67s\n",
      "1999:\ttest: 0.8850317\tbest: 0.8855443 (1356)\ttotal: 54s\tremaining: 0us\n",
      "\n",
      "bestTest = 0.8855442993\n",
      "bestIteration = 1356\n",
      "\n",
      "Shrink model to first 1357 iterations.\n"
     ]
    },
    {
     "data": {
      "text/plain": [
       "<catboost.core.CatBoostClassifier at 0x245cf6ee7c0>"
      ]
     },
     "execution_count": 562,
     "metadata": {},
     "output_type": "execute_result"
    }
   ],
   "source": [
    "ctb.fit(X_train_cb, y_train_cb, \\\n",
    "        eval_set=(X_valid_cb, y_valid_cb), \\\n",
    "        plot=True, verbose=100)"
   ]
  },
  {
   "cell_type": "markdown",
   "metadata": {},
   "source": [
    "Построим ROC-кривую:"
   ]
  },
  {
   "cell_type": "code",
   "execution_count": 570,
   "metadata": {},
   "outputs": [
    {
     "data": {
      "image/png": "[encoded data removed]",
      "text/plain": [
       "<Figure size 432x432 with 1 Axes>"
      ]
     },
     "metadata": {},
     "output_type": "display_data"
    }
   ],
   "source": [
    "from sklearn.metrics import roc_curve\n",
    "\n",
    "fpr, tpr, thresholds = roc_curve(y_valid_cb, ctb.predict_proba(X_valid_cb)[:,1], pos_label=1)\n",
    "\n",
    "sns.set(font_scale=1.3)\n",
    "plt.figure(figsize=(6, 6))\n",
    "plt.plot(fpr, tpr, label='ROC curve ')\n",
    "plt.plot([0, 1], [0, 1])\n",
    "plt.xlim([-0.02, 1.02])\n",
    "plt.ylim([-0.02, 1.02])\n",
    "plt.xlabel('False Positive Rate')\n",
    "plt.ylabel('True Positive Rate')\n",
    "plt.title('ROC curve');"
   ]
  },
  {
   "cell_type": "markdown",
   "metadata": {},
   "source": [
    "Обучим модель на всех данных, увеличив количество итераций по сравнению с лучшей моделью на валидации:"
   ]
  },
  {
   "cell_type": "code",
   "execution_count": 571,
   "metadata": {},
   "outputs": [
    {
     "name": "stdout",
     "output_type": "stream",
     "text": [
      "Learning rate set to 0.017103\n",
      "0:\tlearn: 0.6883351\ttotal: 34.4ms\tremaining: 53.3s\n",
      "300:\tlearn: 0.4291970\ttotal: 8.4s\tremaining: 34.9s\n",
      "600:\tlearn: 0.3760076\ttotal: 16.6s\tremaining: 26.3s\n",
      "900:\tlearn: 0.3313026\ttotal: 24.8s\tremaining: 17.8s\n",
      "1200:\tlearn: 0.2979549\ttotal: 32.9s\tremaining: 9.55s\n",
      "1500:\tlearn: 0.2706362\ttotal: 41s\tremaining: 1.34s\n",
      "1549:\tlearn: 0.2663332\ttotal: 42.3s\tremaining: 0us\n"
     ]
    },
    {
     "data": {
      "text/plain": [
       "<catboost.core.CatBoostClassifier at 0x245816e5430>"
      ]
     },
     "execution_count": 571,
     "metadata": {},
     "output_type": "execute_result"
    }
   ],
   "source": [
    "ctb_final = CatBoostClassifier(depth=6, iterations=1550, random_seed=18)\n",
    "ctb_final.fit(X_train, y, plot=False, verbose=300)"
   ]
  },
  {
   "cell_type": "markdown",
   "metadata": {},
   "source": [
    "Посмотрим на важность признаков в построенной модели:"
   ]
  },
  {
   "cell_type": "code",
   "execution_count": 572,
   "metadata": {},
   "outputs": [],
   "source": [
    "# Функция вывода информации о важности признаков в построенной модели\n",
    "def print_feat_imp(feat_names, feat_values, n_features=0, draw_bar=True, print_val=False):\n",
    "    feat_imp = dict(zip(feat_names, feat_values))\n",
    "    feat_dict = sorted(feat_imp.items(), key=lambda item: abs(item[1]), reverse=True)\n",
    "    if not n_features:\n",
    "        n_features = len(feat_values)\n",
    "    if print_val:    \n",
    "        { print('{}: {:.6f}'.format(k, v)) for k, v in feat_dict[:n_features] }\n",
    "    if draw_bar:\n",
    "        plt.figure(figsize=(10, 8));\n",
    "        sns.set(font_scale=1.1)\n",
    "        bar = sns.barplot(y=list(map(lambda x: x[0], feat_dict))[:n_features], \\\n",
    "            x=list(map(lambda x: x[1], feat_dict))[:n_features],\n",
    "            orient='h');\n",
    "        bar.set(title='Feature importance')"
   ]
  },
  {
   "cell_type": "code",
   "execution_count": 573,
   "metadata": {},
   "outputs": [
    {
     "data": {
      "image/png": "[encoded data removed]",
      "text/plain": [
       "<Figure size 720x576 with 1 Axes>"
      ]
     },
     "metadata": {},
     "output_type": "display_data"
    }
   ],
   "source": [
    "print_feat_imp(X_train.columns, ctb_final.get_feature_importance(), n_features=30)"
   ]
  },
  {
   "cell_type": "markdown",
   "metadata": {},
   "source": [
    "Можем заметить, что наибольшее влияние на значение целевой переменной оказывает частота транзакций клиента с MCC-кодами:\n",
    "\n",
    "- 5977: Магазины косметики\n",
    "- 5533: Автозапчасти и аксессуары\n",
    "- 5541: Станции техобслуживания\n",
    "- 5661: Обувные магазины\n",
    "- 5912: Аптеки\n",
    "\n",
    "Полученная зависимость представляется вполне логичной.\n",
    "\n",
    "Кроме того, очевидно влияние на целевую переменную общего уровня доходов и расходов клиента. Также прослеживается влияние распределения частоты транзакций клиента по времени суток."
   ]
  },
  {
   "cell_type": "code",
   "execution_count": 574,
   "metadata": {},
   "outputs": [],
   "source": [
    "proba_pred = ctb_final.predict_proba(X_test)[:, 1]"
   ]
  },
  {
   "cell_type": "code",
   "execution_count": 575,
   "metadata": {},
   "outputs": [],
   "source": [
    "subm = pd.DataFrame()\n",
    "subm['customer_id'] = data_test['customer_id']\n",
    "subm['probability'] = proba_pred\n",
    "subm.to_csv(PATH + 'submission_ctb.csv', index=False)"
   ]
  },
  {
   "cell_type": "markdown",
   "metadata": {},
   "source": [
    "При различных значениях random_seed модель показывает **ROC AUC** до **0.88307**"
   ]
  },
  {
   "cell_type": "markdown",
   "metadata": {},
   "source": [
    "Попробуем улучшить качество модели за счет построения ансамбля:"
   ]
  },
  {
   "cell_type": "code",
   "execution_count": 180,
   "metadata": {},
   "outputs": [
    {
     "name": "stdout",
     "output_type": "stream",
     "text": [
      "Iteration: 1\n",
      "Learning rate set to 0.017103\n",
      "0:\tlearn: 0.6880938\ttotal: 31.7ms\tremaining: 49.1s\n",
      "500:\tlearn: 0.3934657\ttotal: 13.6s\tremaining: 28.5s\n",
      "1000:\tlearn: 0.3183289\ttotal: 27s\tremaining: 14.8s\n",
      "1500:\tlearn: 0.2692749\ttotal: 40.7s\tremaining: 1.33s\n",
      "1549:\tlearn: 0.2656170\ttotal: 42.1s\tremaining: 0us\n",
      "Iteration: 2\n",
      "Learning rate set to 0.017103\n",
      "0:\tlearn: 0.6882546\ttotal: 29.5ms\tremaining: 45.7s\n",
      "500:\tlearn: 0.3933218\ttotal: 15.3s\tremaining: 32.1s\n",
      "1000:\tlearn: 0.3194498\ttotal: 30.5s\tremaining: 16.7s\n",
      "1500:\tlearn: 0.2702803\ttotal: 44.7s\tremaining: 1.46s\n",
      "1549:\tlearn: 0.2659558\ttotal: 46.2s\tremaining: 0us\n",
      "Iteration: 3\n",
      "Learning rate set to 0.017103\n",
      "0:\tlearn: 0.6877154\ttotal: 73.8ms\tremaining: 1m 54s\n",
      "500:\tlearn: 0.3926480\ttotal: 15.8s\tremaining: 33.1s\n",
      "1000:\tlearn: 0.3195127\ttotal: 30.4s\tremaining: 16.6s\n",
      "1500:\tlearn: 0.2706608\ttotal: 46.5s\tremaining: 1.52s\n",
      "1549:\tlearn: 0.2664904\ttotal: 48s\tremaining: 0us\n",
      "Iteration: 4\n",
      "Learning rate set to 0.017103\n",
      "0:\tlearn: 0.6878885\ttotal: 52.8ms\tremaining: 1m 21s\n",
      "500:\tlearn: 0.3926964\ttotal: 14.8s\tremaining: 31s\n",
      "1000:\tlearn: 0.3199180\ttotal: 29s\tremaining: 15.9s\n",
      "1500:\tlearn: 0.2701508\ttotal: 42.9s\tremaining: 1.4s\n",
      "1549:\tlearn: 0.2661675\ttotal: 44.3s\tremaining: 0us\n",
      "Iteration: 5\n",
      "Learning rate set to 0.017103\n",
      "0:\tlearn: 0.6874922\ttotal: 29.8ms\tremaining: 46.2s\n",
      "500:\tlearn: 0.3935760\ttotal: 14.2s\tremaining: 29.6s\n",
      "1000:\tlearn: 0.3197345\ttotal: 28.5s\tremaining: 15.6s\n",
      "1500:\tlearn: 0.2706542\ttotal: 42.4s\tremaining: 1.38s\n",
      "1549:\tlearn: 0.2665647\ttotal: 43.7s\tremaining: 0us\n",
      "Iteration: 6\n",
      "Learning rate set to 0.017103\n",
      "0:\tlearn: 0.6876551\ttotal: 42.9ms\tremaining: 1m 6s\n",
      "500:\tlearn: 0.3928367\ttotal: 13.7s\tremaining: 28.7s\n",
      "1000:\tlearn: 0.3186129\ttotal: 27.1s\tremaining: 14.9s\n",
      "1500:\tlearn: 0.2700616\ttotal: 40.5s\tremaining: 1.32s\n",
      "1549:\tlearn: 0.2662483\ttotal: 41.8s\tremaining: 0us\n",
      "Iteration: 7\n",
      "Learning rate set to 0.017103\n",
      "0:\tlearn: 0.6881855\ttotal: 29.9ms\tremaining: 46.3s\n",
      "500:\tlearn: 0.3935201\ttotal: 13.6s\tremaining: 28.5s\n",
      "1000:\tlearn: 0.3191760\ttotal: 27.1s\tremaining: 14.9s\n",
      "1500:\tlearn: 0.2698485\ttotal: 40.6s\tremaining: 1.32s\n",
      "1549:\tlearn: 0.2655290\ttotal: 41.9s\tremaining: 0us\n",
      "Iteration: 8\n",
      "Learning rate set to 0.017103\n",
      "0:\tlearn: 0.6884946\ttotal: 27.8ms\tremaining: 43s\n",
      "500:\tlearn: 0.3932583\ttotal: 13.6s\tremaining: 28.5s\n",
      "1000:\tlearn: 0.3186361\ttotal: 27.1s\tremaining: 14.9s\n",
      "1500:\tlearn: 0.2693756\ttotal: 40.6s\tremaining: 1.32s\n",
      "1549:\tlearn: 0.2655532\ttotal: 42s\tremaining: 0us\n",
      "Iteration: 9\n",
      "Learning rate set to 0.017103\n",
      "0:\tlearn: 0.6881042\ttotal: 28.3ms\tremaining: 43.8s\n",
      "500:\tlearn: 0.3931439\ttotal: 13.6s\tremaining: 28.6s\n",
      "1000:\tlearn: 0.3193338\ttotal: 27s\tremaining: 14.8s\n",
      "1500:\tlearn: 0.2701392\ttotal: 40.5s\tremaining: 1.32s\n",
      "1549:\tlearn: 0.2663682\ttotal: 41.8s\tremaining: 0us\n",
      "Iteration: 10\n",
      "Learning rate set to 0.017103\n",
      "0:\tlearn: 0.6876383\ttotal: 29.3ms\tremaining: 45.4s\n",
      "500:\tlearn: 0.3939398\ttotal: 13.6s\tremaining: 28.4s\n",
      "1000:\tlearn: 0.3202823\ttotal: 27s\tremaining: 14.8s\n",
      "1500:\tlearn: 0.2706667\ttotal: 40.5s\tremaining: 1.32s\n",
      "1549:\tlearn: 0.2663895\ttotal: 41.8s\tremaining: 0us\n",
      "Iteration: 11\n",
      "Learning rate set to 0.017103\n",
      "0:\tlearn: 0.6883326\ttotal: 32.5ms\tremaining: 50.3s\n",
      "500:\tlearn: 0.3935296\ttotal: 13.8s\tremaining: 28.8s\n",
      "1000:\tlearn: 0.3187797\ttotal: 27.4s\tremaining: 15s\n",
      "1500:\tlearn: 0.2698634\ttotal: 40.9s\tremaining: 1.33s\n",
      "1549:\tlearn: 0.2655248\ttotal: 42.2s\tremaining: 0us\n",
      "Iteration: 12\n",
      "Learning rate set to 0.017103\n",
      "0:\tlearn: 0.6880892\ttotal: 38ms\tremaining: 58.8s\n",
      "500:\tlearn: 0.3926977\ttotal: 13.7s\tremaining: 28.8s\n",
      "1000:\tlearn: 0.3178857\ttotal: 27.4s\tremaining: 15s\n",
      "1500:\tlearn: 0.2699060\ttotal: 40.7s\tremaining: 1.33s\n",
      "1549:\tlearn: 0.2658443\ttotal: 42.1s\tremaining: 0us\n",
      "Iteration: 13\n",
      "Learning rate set to 0.017103\n",
      "0:\tlearn: 0.6881590\ttotal: 38.9ms\tremaining: 1m\n",
      "500:\tlearn: 0.3927067\ttotal: 13.8s\tremaining: 28.8s\n",
      "1000:\tlearn: 0.3190314\ttotal: 27.3s\tremaining: 15s\n",
      "1500:\tlearn: 0.2704613\ttotal: 41s\tremaining: 1.34s\n",
      "1549:\tlearn: 0.2661828\ttotal: 42.4s\tremaining: 0us\n",
      "Iteration: 14\n",
      "Learning rate set to 0.017103\n",
      "0:\tlearn: 0.6882272\ttotal: 30ms\tremaining: 46.4s\n",
      "500:\tlearn: 0.3935688\ttotal: 13.8s\tremaining: 29s\n",
      "1000:\tlearn: 0.3202928\ttotal: 27.4s\tremaining: 15s\n",
      "1500:\tlearn: 0.2712382\ttotal: 41s\tremaining: 1.34s\n",
      "1549:\tlearn: 0.2677397\ttotal: 42.3s\tremaining: 0us\n",
      "Iteration: 15\n",
      "Learning rate set to 0.017103\n",
      "0:\tlearn: 0.6880390\ttotal: 29.8ms\tremaining: 46.1s\n",
      "500:\tlearn: 0.3934945\ttotal: 13.6s\tremaining: 28.6s\n",
      "1000:\tlearn: 0.3190404\ttotal: 27.1s\tremaining: 14.9s\n",
      "1500:\tlearn: 0.2705170\ttotal: 40.6s\tremaining: 1.32s\n",
      "1549:\tlearn: 0.2662321\ttotal: 41.9s\tremaining: 0us\n",
      "Iteration: 16\n",
      "Learning rate set to 0.017103\n",
      "0:\tlearn: 0.6871482\ttotal: 43.8ms\tremaining: 1m 7s\n",
      "500:\tlearn: 0.3940323\ttotal: 13.5s\tremaining: 28.4s\n",
      "1000:\tlearn: 0.3202283\ttotal: 27s\tremaining: 14.8s\n",
      "1500:\tlearn: 0.2711103\ttotal: 40.7s\tremaining: 1.33s\n",
      "1549:\tlearn: 0.2668436\ttotal: 42s\tremaining: 0us\n",
      "Iteration: 17\n",
      "Learning rate set to 0.017103\n",
      "0:\tlearn: 0.6879532\ttotal: 28.3ms\tremaining: 43.9s\n",
      "500:\tlearn: 0.3925150\ttotal: 13.7s\tremaining: 28.7s\n",
      "1000:\tlearn: 0.3174724\ttotal: 27.4s\tremaining: 15s\n",
      "1500:\tlearn: 0.2689997\ttotal: 40.7s\tremaining: 1.33s\n",
      "1549:\tlearn: 0.2646621\ttotal: 42s\tremaining: 0us\n",
      "Iteration: 18\n",
      "Learning rate set to 0.017103\n",
      "0:\tlearn: 0.6881539\ttotal: 48.3ms\tremaining: 1m 14s\n",
      "500:\tlearn: 0.3929774\ttotal: 13.6s\tremaining: 28.5s\n",
      "1000:\tlearn: 0.3184416\ttotal: 27.1s\tremaining: 14.8s\n",
      "1500:\tlearn: 0.2698966\ttotal: 40.7s\tremaining: 1.33s\n",
      "1549:\tlearn: 0.2660707\ttotal: 42s\tremaining: 0us\n",
      "Iteration: 19\n",
      "Learning rate set to 0.017103\n",
      "0:\tlearn: 0.6881829\ttotal: 36ms\tremaining: 55.8s\n",
      "500:\tlearn: 0.3925857\ttotal: 13.7s\tremaining: 28.6s\n",
      "1000:\tlearn: 0.3194489\ttotal: 27.2s\tremaining: 14.9s\n",
      "1500:\tlearn: 0.2701093\ttotal: 40.9s\tremaining: 1.34s\n",
      "1549:\tlearn: 0.2660118\ttotal: 42.3s\tremaining: 0us\n"
     ]
    }
   ],
   "source": [
    "proba_ens = proba_pred.copy()\n",
    "n_algs = 20\n",
    "for i in range(n_algs-1):\n",
    "    print(\"Iteration:\", i+2)\n",
    "    ctb_new = CatBoostClassifier(depth=6, iterations=1550, random_seed=42 + i*10 + 1)\n",
    "    ctb_new.fit(X_train, y, plot=False, verbose=500)\n",
    "    proba_ens += ctb_new.predict_proba(X_test)[:, 1]"
   ]
  },
  {
   "cell_type": "markdown",
   "metadata": {},
   "source": [
    "Сравним предсказание финальной модели с предсказаниями ансамбля:"
   ]
  },
  {
   "cell_type": "code",
   "execution_count": 578,
   "metadata": {},
   "outputs": [
    {
     "data": {
      "image/png": "[encoded data removed]",
      "text/plain": [
       "<Figure size 432x288 with 1 Axes>"
      ]
     },
     "metadata": {},
     "output_type": "display_data"
    }
   ],
   "source": [
    "plt.title('One model vs. Ensemble')\n",
    "plt.scatter(proba_ens / n_algs, proba_pred);"
   ]
  },
  {
   "cell_type": "code",
   "execution_count": 579,
   "metadata": {},
   "outputs": [],
   "source": [
    "subm['probability'] = proba_ens / n_algs\n",
    "subm.to_csv(PATH + 'subm_ctb_ens_20.csv', index=False)"
   ]
  },
  {
   "cell_type": "markdown",
   "metadata": {},
   "source": [
    "С помощью ансамбля удалось получить **ROC AUC 0.88404**"
   ]
  }
 ],
 "metadata": {
  "kernelspec": {
   "display_name": "Python 3",
   "language": "python",
   "name": "python3"
  },
  "language_info": {
   "codemirror_mode": {
    "name": "ipython",
    "version": 3
   },
   "file_extension": ".py",
   "mimetype": "text/x-python",
   "name": "python",
   "nbconvert_exporter": "python",
   "pygments_lexer": "ipython3",
   "version": "3.8.5"
  }
 },
 "nbformat": 4,
 "nbformat_minor": 4
}
